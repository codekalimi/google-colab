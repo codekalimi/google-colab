{
 "cells": [
  {
   "cell_type": "code",
   "execution_count": 1,
   "id": "c798191d",
   "metadata": {
    "_cell_guid": "b1076dfc-b9ad-4769-8c92-a6c4dae69d19",
    "_uuid": "8f2839f25d086af736a60e9eeb907d3b93b6e0e5",
    "execution": {
     "iopub.execute_input": "2023-08-13T12:24:37.714178Z",
     "iopub.status.busy": "2023-08-13T12:24:37.713583Z",
     "iopub.status.idle": "2023-08-13T12:24:37.734726Z",
     "shell.execute_reply": "2023-08-13T12:24:37.733272Z"
    },
    "papermill": {
     "duration": 0.033176,
     "end_time": "2023-08-13T12:24:37.737163",
     "exception": false,
     "start_time": "2023-08-13T12:24:37.703987",
     "status": "completed"
    },
    "tags": []
   },
   "outputs": [
    {
     "name": "stdout",
     "output_type": "stream",
     "text": [
      "/kaggle/input/heart-disease-dataset/heart-disease.csv\n"
     ]
    }
   ],
   "source": [
    "# This Python 3 environment comes with many helpful analytics libraries installed\n",
    "# It is defined by the kaggle/python Docker image: https://github.com/kaggle/docker-python\n",
    "# For example, here's several helpful packages to load\n",
    "\n",
    "import numpy as np # linear algebra\n",
    "import pandas as pd # data processing, CSV file I/O (e.g. pd.read_csv)\n",
    "\n",
    "# Input data files are available in the read-only \"../input/\" directory\n",
    "# For example, running this (by clicking run or pressing Shift+Enter) will list all files under the input directory\n",
    "\n",
    "import os\n",
    "for dirname, _, filenames in os.walk('/kaggle/input'):\n",
    "    for filename in filenames:\n",
    "        print(os.path.join(dirname, filename))\n",
    "\n",
    "# You can write up to 20GB to the current directory (/kaggle/working/) that gets preserved as output when you create a version using \"Save & Run All\" \n",
    "# You can also write temporary files to /kaggle/temp/, but they won't be saved outside of the current session"
   ]
  },
  {
   "cell_type": "markdown",
   "id": "b118cfb1",
   "metadata": {
    "papermill": {
     "duration": 0.00716,
     "end_time": "2023-08-13T12:24:37.751832",
     "exception": false,
     "start_time": "2023-08-13T12:24:37.744672",
     "status": "completed"
    },
    "tags": []
   },
   "source": [
    "# Scikit-learn workflow"
   ]
  },
  {
   "cell_type": "markdown",
   "id": "845ecbbd",
   "metadata": {
    "papermill": {
     "duration": 0.006923,
     "end_time": "2023-08-13T12:24:37.766051",
     "exception": false,
     "start_time": "2023-08-13T12:24:37.759128",
     "status": "completed"
    },
    "tags": []
   },
   "source": [
    "### 1. Get the Data ready\n",
    "### 2. Pick a Model (to suit your problem)\n",
    "### 3. Fit the Model to the data and make a prediction (learning patterns and using pattern to predict)\n",
    "### 4. Evaluate the Model\n",
    "### 5. Improve through Experimentation\n",
    "### 6. Save and reload your trained model"
   ]
  },
  {
   "cell_type": "markdown",
   "id": "0251a5c0",
   "metadata": {
    "execution": {
     "iopub.execute_input": "2023-08-13T11:41:53.713440Z",
     "iopub.status.busy": "2023-08-13T11:41:53.711812Z",
     "iopub.status.idle": "2023-08-13T11:41:53.720895Z",
     "shell.execute_reply": "2023-08-13T11:41:53.720162Z",
     "shell.execute_reply.started": "2023-08-13T11:41:53.713355Z"
    },
    "papermill": {
     "duration": 0.006918,
     "end_time": "2023-08-13T12:24:37.780288",
     "exception": false,
     "start_time": "2023-08-13T12:24:37.773370",
     "status": "completed"
    },
    "tags": []
   },
   "source": [
    "## 1.Get the Data ready"
   ]
  },
  {
   "cell_type": "code",
   "execution_count": 2,
   "id": "56245165",
   "metadata": {
    "execution": {
     "iopub.execute_input": "2023-08-13T12:24:37.796722Z",
     "iopub.status.busy": "2023-08-13T12:24:37.796307Z",
     "iopub.status.idle": "2023-08-13T12:24:37.800327Z",
     "shell.execute_reply": "2023-08-13T12:24:37.799540Z"
    },
    "papermill": {
     "duration": 0.015303,
     "end_time": "2023-08-13T12:24:37.802716",
     "exception": false,
     "start_time": "2023-08-13T12:24:37.787413",
     "status": "completed"
    },
    "tags": []
   },
   "outputs": [],
   "source": [
    "import numpy as np\n",
    "import pandas as pd\n",
    "import matplotlib.pyplot as plt"
   ]
  },
  {
   "cell_type": "code",
   "execution_count": 3,
   "id": "242a4c97",
   "metadata": {
    "execution": {
     "iopub.execute_input": "2023-08-13T12:24:37.819400Z",
     "iopub.status.busy": "2023-08-13T12:24:37.818695Z",
     "iopub.status.idle": "2023-08-13T12:24:37.860656Z",
     "shell.execute_reply": "2023-08-13T12:24:37.859715Z"
    },
    "papermill": {
     "duration": 0.053062,
     "end_time": "2023-08-13T12:24:37.863064",
     "exception": false,
     "start_time": "2023-08-13T12:24:37.810002",
     "status": "completed"
    },
    "tags": []
   },
   "outputs": [
    {
     "data": {
      "text/html": [
       "<div>\n",
       "<style scoped>\n",
       "    .dataframe tbody tr th:only-of-type {\n",
       "        vertical-align: middle;\n",
       "    }\n",
       "\n",
       "    .dataframe tbody tr th {\n",
       "        vertical-align: top;\n",
       "    }\n",
       "\n",
       "    .dataframe thead th {\n",
       "        text-align: right;\n",
       "    }\n",
       "</style>\n",
       "<table border=\"1\" class=\"dataframe\">\n",
       "  <thead>\n",
       "    <tr style=\"text-align: right;\">\n",
       "      <th></th>\n",
       "      <th>age</th>\n",
       "      <th>sex</th>\n",
       "      <th>cp</th>\n",
       "      <th>trestbps</th>\n",
       "      <th>chol</th>\n",
       "      <th>fbs</th>\n",
       "      <th>restecg</th>\n",
       "      <th>thalach</th>\n",
       "      <th>exang</th>\n",
       "      <th>oldpeak</th>\n",
       "      <th>slope</th>\n",
       "      <th>ca</th>\n",
       "      <th>thal</th>\n",
       "      <th>target</th>\n",
       "    </tr>\n",
       "  </thead>\n",
       "  <tbody>\n",
       "    <tr>\n",
       "      <th>0</th>\n",
       "      <td>63</td>\n",
       "      <td>1</td>\n",
       "      <td>3</td>\n",
       "      <td>145</td>\n",
       "      <td>233</td>\n",
       "      <td>1</td>\n",
       "      <td>0</td>\n",
       "      <td>150</td>\n",
       "      <td>0</td>\n",
       "      <td>2.3</td>\n",
       "      <td>0</td>\n",
       "      <td>0</td>\n",
       "      <td>1</td>\n",
       "      <td>1</td>\n",
       "    </tr>\n",
       "    <tr>\n",
       "      <th>1</th>\n",
       "      <td>37</td>\n",
       "      <td>1</td>\n",
       "      <td>2</td>\n",
       "      <td>130</td>\n",
       "      <td>250</td>\n",
       "      <td>0</td>\n",
       "      <td>1</td>\n",
       "      <td>187</td>\n",
       "      <td>0</td>\n",
       "      <td>3.5</td>\n",
       "      <td>0</td>\n",
       "      <td>0</td>\n",
       "      <td>2</td>\n",
       "      <td>1</td>\n",
       "    </tr>\n",
       "    <tr>\n",
       "      <th>2</th>\n",
       "      <td>41</td>\n",
       "      <td>0</td>\n",
       "      <td>1</td>\n",
       "      <td>130</td>\n",
       "      <td>204</td>\n",
       "      <td>0</td>\n",
       "      <td>0</td>\n",
       "      <td>172</td>\n",
       "      <td>0</td>\n",
       "      <td>1.4</td>\n",
       "      <td>2</td>\n",
       "      <td>0</td>\n",
       "      <td>2</td>\n",
       "      <td>1</td>\n",
       "    </tr>\n",
       "    <tr>\n",
       "      <th>3</th>\n",
       "      <td>56</td>\n",
       "      <td>1</td>\n",
       "      <td>1</td>\n",
       "      <td>120</td>\n",
       "      <td>236</td>\n",
       "      <td>0</td>\n",
       "      <td>1</td>\n",
       "      <td>178</td>\n",
       "      <td>0</td>\n",
       "      <td>0.8</td>\n",
       "      <td>2</td>\n",
       "      <td>0</td>\n",
       "      <td>2</td>\n",
       "      <td>1</td>\n",
       "    </tr>\n",
       "    <tr>\n",
       "      <th>4</th>\n",
       "      <td>57</td>\n",
       "      <td>0</td>\n",
       "      <td>0</td>\n",
       "      <td>120</td>\n",
       "      <td>354</td>\n",
       "      <td>0</td>\n",
       "      <td>1</td>\n",
       "      <td>163</td>\n",
       "      <td>1</td>\n",
       "      <td>0.6</td>\n",
       "      <td>2</td>\n",
       "      <td>0</td>\n",
       "      <td>2</td>\n",
       "      <td>1</td>\n",
       "    </tr>\n",
       "  </tbody>\n",
       "</table>\n",
       "</div>"
      ],
      "text/plain": [
       "   age  sex  cp  trestbps  chol  fbs  restecg  thalach  exang  oldpeak  slope  \\\n",
       "0   63    1   3       145   233    1        0      150      0      2.3      0   \n",
       "1   37    1   2       130   250    0        1      187      0      3.5      0   \n",
       "2   41    0   1       130   204    0        0      172      0      1.4      2   \n",
       "3   56    1   1       120   236    0        1      178      0      0.8      2   \n",
       "4   57    0   0       120   354    0        1      163      1      0.6      2   \n",
       "\n",
       "   ca  thal  target  \n",
       "0   0     1       1  \n",
       "1   0     2       1  \n",
       "2   0     2       1  \n",
       "3   0     2       1  \n",
       "4   0     2       1  "
      ]
     },
     "execution_count": 3,
     "metadata": {},
     "output_type": "execute_result"
    }
   ],
   "source": [
    "heart_diseas_df = pd.read_csv(\"/kaggle/input/heart-disease-dataset/heart-disease.csv\")\n",
    "heart_diseas_df.head()"
   ]
  },
  {
   "cell_type": "code",
   "execution_count": 4,
   "id": "07e94e8d",
   "metadata": {
    "execution": {
     "iopub.execute_input": "2023-08-13T12:24:37.881031Z",
     "iopub.status.busy": "2023-08-13T12:24:37.880271Z",
     "iopub.status.idle": "2023-08-13T12:24:37.908309Z",
     "shell.execute_reply": "2023-08-13T12:24:37.906875Z"
    },
    "papermill": {
     "duration": 0.039962,
     "end_time": "2023-08-13T12:24:37.910843",
     "exception": false,
     "start_time": "2023-08-13T12:24:37.870881",
     "status": "completed"
    },
    "tags": []
   },
   "outputs": [
    {
     "name": "stdout",
     "output_type": "stream",
     "text": [
      "<class 'pandas.core.frame.DataFrame'>\n",
      "RangeIndex: 303 entries, 0 to 302\n",
      "Data columns (total 14 columns):\n",
      " #   Column    Non-Null Count  Dtype  \n",
      "---  ------    --------------  -----  \n",
      " 0   age       303 non-null    int64  \n",
      " 1   sex       303 non-null    int64  \n",
      " 2   cp        303 non-null    int64  \n",
      " 3   trestbps  303 non-null    int64  \n",
      " 4   chol      303 non-null    int64  \n",
      " 5   fbs       303 non-null    int64  \n",
      " 6   restecg   303 non-null    int64  \n",
      " 7   thalach   303 non-null    int64  \n",
      " 8   exang     303 non-null    int64  \n",
      " 9   oldpeak   303 non-null    float64\n",
      " 10  slope     303 non-null    int64  \n",
      " 11  ca        303 non-null    int64  \n",
      " 12  thal      303 non-null    int64  \n",
      " 13  target    303 non-null    int64  \n",
      "dtypes: float64(1), int64(13)\n",
      "memory usage: 33.3 KB\n"
     ]
    }
   ],
   "source": [
    "heart_diseas_df.info()"
   ]
  },
  {
   "cell_type": "code",
   "execution_count": 5,
   "id": "409ebb62",
   "metadata": {
    "execution": {
     "iopub.execute_input": "2023-08-13T12:24:37.929814Z",
     "iopub.status.busy": "2023-08-13T12:24:37.929357Z",
     "iopub.status.idle": "2023-08-13T12:24:37.953608Z",
     "shell.execute_reply": "2023-08-13T12:24:37.952508Z"
    },
    "papermill": {
     "duration": 0.037095,
     "end_time": "2023-08-13T12:24:37.955842",
     "exception": false,
     "start_time": "2023-08-13T12:24:37.918747",
     "status": "completed"
    },
    "tags": []
   },
   "outputs": [
    {
     "data": {
      "text/html": [
       "<div>\n",
       "<style scoped>\n",
       "    .dataframe tbody tr th:only-of-type {\n",
       "        vertical-align: middle;\n",
       "    }\n",
       "\n",
       "    .dataframe tbody tr th {\n",
       "        vertical-align: top;\n",
       "    }\n",
       "\n",
       "    .dataframe thead th {\n",
       "        text-align: right;\n",
       "    }\n",
       "</style>\n",
       "<table border=\"1\" class=\"dataframe\">\n",
       "  <thead>\n",
       "    <tr style=\"text-align: right;\">\n",
       "      <th></th>\n",
       "      <th>age</th>\n",
       "      <th>sex</th>\n",
       "      <th>cp</th>\n",
       "      <th>trestbps</th>\n",
       "      <th>chol</th>\n",
       "      <th>fbs</th>\n",
       "      <th>restecg</th>\n",
       "      <th>thalach</th>\n",
       "      <th>exang</th>\n",
       "      <th>oldpeak</th>\n",
       "      <th>slope</th>\n",
       "      <th>ca</th>\n",
       "      <th>thal</th>\n",
       "    </tr>\n",
       "  </thead>\n",
       "  <tbody>\n",
       "    <tr>\n",
       "      <th>0</th>\n",
       "      <td>63</td>\n",
       "      <td>1</td>\n",
       "      <td>3</td>\n",
       "      <td>145</td>\n",
       "      <td>233</td>\n",
       "      <td>1</td>\n",
       "      <td>0</td>\n",
       "      <td>150</td>\n",
       "      <td>0</td>\n",
       "      <td>2.3</td>\n",
       "      <td>0</td>\n",
       "      <td>0</td>\n",
       "      <td>1</td>\n",
       "    </tr>\n",
       "    <tr>\n",
       "      <th>1</th>\n",
       "      <td>37</td>\n",
       "      <td>1</td>\n",
       "      <td>2</td>\n",
       "      <td>130</td>\n",
       "      <td>250</td>\n",
       "      <td>0</td>\n",
       "      <td>1</td>\n",
       "      <td>187</td>\n",
       "      <td>0</td>\n",
       "      <td>3.5</td>\n",
       "      <td>0</td>\n",
       "      <td>0</td>\n",
       "      <td>2</td>\n",
       "    </tr>\n",
       "    <tr>\n",
       "      <th>2</th>\n",
       "      <td>41</td>\n",
       "      <td>0</td>\n",
       "      <td>1</td>\n",
       "      <td>130</td>\n",
       "      <td>204</td>\n",
       "      <td>0</td>\n",
       "      <td>0</td>\n",
       "      <td>172</td>\n",
       "      <td>0</td>\n",
       "      <td>1.4</td>\n",
       "      <td>2</td>\n",
       "      <td>0</td>\n",
       "      <td>2</td>\n",
       "    </tr>\n",
       "    <tr>\n",
       "      <th>3</th>\n",
       "      <td>56</td>\n",
       "      <td>1</td>\n",
       "      <td>1</td>\n",
       "      <td>120</td>\n",
       "      <td>236</td>\n",
       "      <td>0</td>\n",
       "      <td>1</td>\n",
       "      <td>178</td>\n",
       "      <td>0</td>\n",
       "      <td>0.8</td>\n",
       "      <td>2</td>\n",
       "      <td>0</td>\n",
       "      <td>2</td>\n",
       "    </tr>\n",
       "    <tr>\n",
       "      <th>4</th>\n",
       "      <td>57</td>\n",
       "      <td>0</td>\n",
       "      <td>0</td>\n",
       "      <td>120</td>\n",
       "      <td>354</td>\n",
       "      <td>0</td>\n",
       "      <td>1</td>\n",
       "      <td>163</td>\n",
       "      <td>1</td>\n",
       "      <td>0.6</td>\n",
       "      <td>2</td>\n",
       "      <td>0</td>\n",
       "      <td>2</td>\n",
       "    </tr>\n",
       "    <tr>\n",
       "      <th>...</th>\n",
       "      <td>...</td>\n",
       "      <td>...</td>\n",
       "      <td>...</td>\n",
       "      <td>...</td>\n",
       "      <td>...</td>\n",
       "      <td>...</td>\n",
       "      <td>...</td>\n",
       "      <td>...</td>\n",
       "      <td>...</td>\n",
       "      <td>...</td>\n",
       "      <td>...</td>\n",
       "      <td>...</td>\n",
       "      <td>...</td>\n",
       "    </tr>\n",
       "    <tr>\n",
       "      <th>298</th>\n",
       "      <td>57</td>\n",
       "      <td>0</td>\n",
       "      <td>0</td>\n",
       "      <td>140</td>\n",
       "      <td>241</td>\n",
       "      <td>0</td>\n",
       "      <td>1</td>\n",
       "      <td>123</td>\n",
       "      <td>1</td>\n",
       "      <td>0.2</td>\n",
       "      <td>1</td>\n",
       "      <td>0</td>\n",
       "      <td>3</td>\n",
       "    </tr>\n",
       "    <tr>\n",
       "      <th>299</th>\n",
       "      <td>45</td>\n",
       "      <td>1</td>\n",
       "      <td>3</td>\n",
       "      <td>110</td>\n",
       "      <td>264</td>\n",
       "      <td>0</td>\n",
       "      <td>1</td>\n",
       "      <td>132</td>\n",
       "      <td>0</td>\n",
       "      <td>1.2</td>\n",
       "      <td>1</td>\n",
       "      <td>0</td>\n",
       "      <td>3</td>\n",
       "    </tr>\n",
       "    <tr>\n",
       "      <th>300</th>\n",
       "      <td>68</td>\n",
       "      <td>1</td>\n",
       "      <td>0</td>\n",
       "      <td>144</td>\n",
       "      <td>193</td>\n",
       "      <td>1</td>\n",
       "      <td>1</td>\n",
       "      <td>141</td>\n",
       "      <td>0</td>\n",
       "      <td>3.4</td>\n",
       "      <td>1</td>\n",
       "      <td>2</td>\n",
       "      <td>3</td>\n",
       "    </tr>\n",
       "    <tr>\n",
       "      <th>301</th>\n",
       "      <td>57</td>\n",
       "      <td>1</td>\n",
       "      <td>0</td>\n",
       "      <td>130</td>\n",
       "      <td>131</td>\n",
       "      <td>0</td>\n",
       "      <td>1</td>\n",
       "      <td>115</td>\n",
       "      <td>1</td>\n",
       "      <td>1.2</td>\n",
       "      <td>1</td>\n",
       "      <td>1</td>\n",
       "      <td>3</td>\n",
       "    </tr>\n",
       "    <tr>\n",
       "      <th>302</th>\n",
       "      <td>57</td>\n",
       "      <td>0</td>\n",
       "      <td>1</td>\n",
       "      <td>130</td>\n",
       "      <td>236</td>\n",
       "      <td>0</td>\n",
       "      <td>0</td>\n",
       "      <td>174</td>\n",
       "      <td>0</td>\n",
       "      <td>0.0</td>\n",
       "      <td>1</td>\n",
       "      <td>1</td>\n",
       "      <td>2</td>\n",
       "    </tr>\n",
       "  </tbody>\n",
       "</table>\n",
       "<p>303 rows × 13 columns</p>\n",
       "</div>"
      ],
      "text/plain": [
       "     age  sex  cp  trestbps  chol  fbs  restecg  thalach  exang  oldpeak  \\\n",
       "0     63    1   3       145   233    1        0      150      0      2.3   \n",
       "1     37    1   2       130   250    0        1      187      0      3.5   \n",
       "2     41    0   1       130   204    0        0      172      0      1.4   \n",
       "3     56    1   1       120   236    0        1      178      0      0.8   \n",
       "4     57    0   0       120   354    0        1      163      1      0.6   \n",
       "..   ...  ...  ..       ...   ...  ...      ...      ...    ...      ...   \n",
       "298   57    0   0       140   241    0        1      123      1      0.2   \n",
       "299   45    1   3       110   264    0        1      132      0      1.2   \n",
       "300   68    1   0       144   193    1        1      141      0      3.4   \n",
       "301   57    1   0       130   131    0        1      115      1      1.2   \n",
       "302   57    0   1       130   236    0        0      174      0      0.0   \n",
       "\n",
       "     slope  ca  thal  \n",
       "0        0   0     1  \n",
       "1        0   0     2  \n",
       "2        2   0     2  \n",
       "3        2   0     2  \n",
       "4        2   0     2  \n",
       "..     ...  ..   ...  \n",
       "298      1   0     3  \n",
       "299      1   0     3  \n",
       "300      1   2     3  \n",
       "301      1   1     3  \n",
       "302      1   1     2  \n",
       "\n",
       "[303 rows x 13 columns]"
      ]
     },
     "execution_count": 5,
     "metadata": {},
     "output_type": "execute_result"
    }
   ],
   "source": [
    "#feature matrix\n",
    "X = heart_diseas_df.drop(\"target\", axis=1)\n",
    "X"
   ]
  },
  {
   "cell_type": "code",
   "execution_count": 6,
   "id": "5827b5d0",
   "metadata": {
    "execution": {
     "iopub.execute_input": "2023-08-13T12:24:37.974954Z",
     "iopub.status.busy": "2023-08-13T12:24:37.974028Z",
     "iopub.status.idle": "2023-08-13T12:24:37.982490Z",
     "shell.execute_reply": "2023-08-13T12:24:37.981362Z"
    },
    "papermill": {
     "duration": 0.02057,
     "end_time": "2023-08-13T12:24:37.984856",
     "exception": false,
     "start_time": "2023-08-13T12:24:37.964286",
     "status": "completed"
    },
    "tags": []
   },
   "outputs": [
    {
     "data": {
      "text/plain": [
       "0      1\n",
       "1      1\n",
       "2      1\n",
       "3      1\n",
       "4      1\n",
       "      ..\n",
       "298    0\n",
       "299    0\n",
       "300    0\n",
       "301    0\n",
       "302    0\n",
       "Name: target, Length: 303, dtype: int64"
      ]
     },
     "execution_count": 6,
     "metadata": {},
     "output_type": "execute_result"
    }
   ],
   "source": [
    "# label (target)\n",
    "y = heart_diseas_df[\"target\"]\n",
    "y"
   ]
  },
  {
   "cell_type": "code",
   "execution_count": 7,
   "id": "b1588272",
   "metadata": {
    "execution": {
     "iopub.execute_input": "2023-08-13T12:24:38.004152Z",
     "iopub.status.busy": "2023-08-13T12:24:38.003712Z",
     "iopub.status.idle": "2023-08-13T12:24:39.713076Z",
     "shell.execute_reply": "2023-08-13T12:24:39.712154Z"
    },
    "papermill": {
     "duration": 1.722109,
     "end_time": "2023-08-13T12:24:39.715653",
     "exception": false,
     "start_time": "2023-08-13T12:24:37.993544",
     "status": "completed"
    },
    "tags": []
   },
   "outputs": [
    {
     "name": "stderr",
     "output_type": "stream",
     "text": [
      "/opt/conda/lib/python3.10/site-packages/scipy/__init__.py:146: UserWarning: A NumPy version >=1.16.5 and <1.23.0 is required for this version of SciPy (detected version 1.23.5\n",
      "  warnings.warn(f\"A NumPy version >={np_minversion} and <{np_maxversion}\"\n"
     ]
    },
    {
     "data": {
      "text/plain": [
       "{'bootstrap': True,\n",
       " 'ccp_alpha': 0.0,\n",
       " 'class_weight': None,\n",
       " 'criterion': 'gini',\n",
       " 'max_depth': None,\n",
       " 'max_features': 'sqrt',\n",
       " 'max_leaf_nodes': None,\n",
       " 'max_samples': None,\n",
       " 'min_impurity_decrease': 0.0,\n",
       " 'min_samples_leaf': 1,\n",
       " 'min_samples_split': 2,\n",
       " 'min_weight_fraction_leaf': 0.0,\n",
       " 'n_estimators': 100,\n",
       " 'n_jobs': None,\n",
       " 'oob_score': False,\n",
       " 'random_state': None,\n",
       " 'verbose': 0,\n",
       " 'warm_start': False}"
      ]
     },
     "execution_count": 7,
     "metadata": {},
     "output_type": "execute_result"
    }
   ],
   "source": [
    "# Chose the right model\n",
    "from sklearn.ensemble import RandomForestClassifier\n",
    "clf = RandomForestClassifier(n_estimators=100)\n",
    "\n",
    "# keep the default hyperparameter\n",
    "clf.get_params()"
   ]
  },
  {
   "cell_type": "code",
   "execution_count": 8,
   "id": "38d0c272",
   "metadata": {
    "execution": {
     "iopub.execute_input": "2023-08-13T12:24:39.735701Z",
     "iopub.status.busy": "2023-08-13T12:24:39.734799Z",
     "iopub.status.idle": "2023-08-13T12:24:39.742270Z",
     "shell.execute_reply": "2023-08-13T12:24:39.741232Z"
    },
    "papermill": {
     "duration": 0.020112,
     "end_time": "2023-08-13T12:24:39.744678",
     "exception": false,
     "start_time": "2023-08-13T12:24:39.724566",
     "status": "completed"
    },
    "tags": []
   },
   "outputs": [],
   "source": [
    "# Fit the model to the training data\n",
    "from sklearn.model_selection import train_test_split\n",
    "\n",
    "X_train, X_test, y_train, y_test = train_test_split(X, y, test_size=0.2)"
   ]
  },
  {
   "cell_type": "code",
   "execution_count": 9,
   "id": "3fef06a5",
   "metadata": {
    "execution": {
     "iopub.execute_input": "2023-08-13T12:24:39.764600Z",
     "iopub.status.busy": "2023-08-13T12:24:39.763859Z",
     "iopub.status.idle": "2023-08-13T12:24:40.006780Z",
     "shell.execute_reply": "2023-08-13T12:24:40.005782Z"
    },
    "papermill": {
     "duration": 0.255727,
     "end_time": "2023-08-13T12:24:40.009322",
     "exception": false,
     "start_time": "2023-08-13T12:24:39.753595",
     "status": "completed"
    },
    "tags": []
   },
   "outputs": [],
   "source": [
    "clf.fit(X_train, y_train);"
   ]
  },
  {
   "cell_type": "code",
   "execution_count": 10,
   "id": "37c70c9d",
   "metadata": {
    "execution": {
     "iopub.execute_input": "2023-08-13T12:24:40.029467Z",
     "iopub.status.busy": "2023-08-13T12:24:40.028811Z",
     "iopub.status.idle": "2023-08-13T12:24:40.054250Z",
     "shell.execute_reply": "2023-08-13T12:24:40.053239Z"
    },
    "papermill": {
     "duration": 0.038287,
     "end_time": "2023-08-13T12:24:40.056863",
     "exception": false,
     "start_time": "2023-08-13T12:24:40.018576",
     "status": "completed"
    },
    "tags": []
   },
   "outputs": [
    {
     "data": {
      "text/plain": [
       "array([1, 0, 0, 1, 1, 0, 0, 0, 1, 1, 0, 0, 1, 1, 0, 1, 1, 0, 0, 1, 0, 0,\n",
       "       1, 1, 1, 0, 1, 1, 0, 0, 1, 0, 0, 1, 1, 1, 0, 0, 1, 1, 0, 1, 1, 0,\n",
       "       0, 1, 1, 1, 1, 1, 0, 0, 1, 1, 1, 1, 1, 1, 0, 1, 0])"
      ]
     },
     "execution_count": 10,
     "metadata": {},
     "output_type": "execute_result"
    }
   ],
   "source": [
    "# make prediction\n",
    "y_preds = clf.predict(X_test)\n",
    "y_preds"
   ]
  },
  {
   "cell_type": "code",
   "execution_count": 11,
   "id": "6a25635f",
   "metadata": {
    "execution": {
     "iopub.execute_input": "2023-08-13T12:24:40.077226Z",
     "iopub.status.busy": "2023-08-13T12:24:40.076434Z",
     "iopub.status.idle": "2023-08-13T12:24:40.102118Z",
     "shell.execute_reply": "2023-08-13T12:24:40.101066Z"
    },
    "papermill": {
     "duration": 0.038866,
     "end_time": "2023-08-13T12:24:40.104920",
     "exception": false,
     "start_time": "2023-08-13T12:24:40.066054",
     "status": "completed"
    },
    "tags": []
   },
   "outputs": [
    {
     "data": {
      "text/plain": [
       "1.0"
      ]
     },
     "execution_count": 11,
     "metadata": {},
     "output_type": "execute_result"
    }
   ],
   "source": [
    "# Evaluate the model with the train and test data\n",
    "clf.score(X_train, y_train)"
   ]
  },
  {
   "cell_type": "code",
   "execution_count": 12,
   "id": "65163d02",
   "metadata": {
    "execution": {
     "iopub.execute_input": "2023-08-13T12:24:40.125520Z",
     "iopub.status.busy": "2023-08-13T12:24:40.125099Z",
     "iopub.status.idle": "2023-08-13T12:24:40.149961Z",
     "shell.execute_reply": "2023-08-13T12:24:40.148857Z"
    },
    "papermill": {
     "duration": 0.038151,
     "end_time": "2023-08-13T12:24:40.152299",
     "exception": false,
     "start_time": "2023-08-13T12:24:40.114148",
     "status": "completed"
    },
    "tags": []
   },
   "outputs": [
    {
     "data": {
      "text/plain": [
       "0.8524590163934426"
      ]
     },
     "execution_count": 12,
     "metadata": {},
     "output_type": "execute_result"
    }
   ],
   "source": [
    "clf.score(X_test, y_test)"
   ]
  },
  {
   "cell_type": "code",
   "execution_count": 13,
   "id": "a006822d",
   "metadata": {
    "execution": {
     "iopub.execute_input": "2023-08-13T12:24:40.172706Z",
     "iopub.status.busy": "2023-08-13T12:24:40.172316Z",
     "iopub.status.idle": "2023-08-13T12:24:40.188931Z",
     "shell.execute_reply": "2023-08-13T12:24:40.187500Z"
    },
    "papermill": {
     "duration": 0.029933,
     "end_time": "2023-08-13T12:24:40.191373",
     "exception": false,
     "start_time": "2023-08-13T12:24:40.161440",
     "status": "completed"
    },
    "tags": []
   },
   "outputs": [
    {
     "name": "stdout",
     "output_type": "stream",
     "text": [
      "              precision    recall  f1-score   support\n",
      "\n",
      "           0       0.73      0.90      0.81        21\n",
      "           1       0.94      0.82      0.88        40\n",
      "\n",
      "    accuracy                           0.85        61\n",
      "   macro avg       0.84      0.86      0.84        61\n",
      "weighted avg       0.87      0.85      0.86        61\n",
      "\n"
     ]
    }
   ],
   "source": [
    "from sklearn.metrics import classification_report, confusion_matrix, accuracy_score\n",
    "print(classification_report(y_test, y_preds))"
   ]
  },
  {
   "cell_type": "code",
   "execution_count": 14,
   "id": "a9512f64",
   "metadata": {
    "execution": {
     "iopub.execute_input": "2023-08-13T12:24:40.211951Z",
     "iopub.status.busy": "2023-08-13T12:24:40.211565Z",
     "iopub.status.idle": "2023-08-13T12:24:40.222419Z",
     "shell.execute_reply": "2023-08-13T12:24:40.221235Z"
    },
    "papermill": {
     "duration": 0.023918,
     "end_time": "2023-08-13T12:24:40.224774",
     "exception": false,
     "start_time": "2023-08-13T12:24:40.200856",
     "status": "completed"
    },
    "tags": []
   },
   "outputs": [
    {
     "data": {
      "text/plain": [
       "array([[19,  2],\n",
       "       [ 7, 33]])"
      ]
     },
     "execution_count": 14,
     "metadata": {},
     "output_type": "execute_result"
    }
   ],
   "source": [
    "confusion_matrix(y_test, y_preds)"
   ]
  },
  {
   "cell_type": "code",
   "execution_count": 15,
   "id": "9e8d4b78",
   "metadata": {
    "execution": {
     "iopub.execute_input": "2023-08-13T12:24:40.245622Z",
     "iopub.status.busy": "2023-08-13T12:24:40.245193Z",
     "iopub.status.idle": "2023-08-13T12:24:40.253611Z",
     "shell.execute_reply": "2023-08-13T12:24:40.252450Z"
    },
    "papermill": {
     "duration": 0.021671,
     "end_time": "2023-08-13T12:24:40.255909",
     "exception": false,
     "start_time": "2023-08-13T12:24:40.234238",
     "status": "completed"
    },
    "tags": []
   },
   "outputs": [
    {
     "data": {
      "text/plain": [
       "0.8524590163934426"
      ]
     },
     "execution_count": 15,
     "metadata": {},
     "output_type": "execute_result"
    }
   ],
   "source": [
    "accuracy_score(y_test, y_preds)"
   ]
  },
  {
   "cell_type": "code",
   "execution_count": 16,
   "id": "95eb1ad3",
   "metadata": {
    "execution": {
     "iopub.execute_input": "2023-08-13T12:24:40.278640Z",
     "iopub.status.busy": "2023-08-13T12:24:40.277805Z",
     "iopub.status.idle": "2023-08-13T12:24:41.471021Z",
     "shell.execute_reply": "2023-08-13T12:24:41.469779Z"
    },
    "papermill": {
     "duration": 1.207457,
     "end_time": "2023-08-13T12:24:41.473543",
     "exception": false,
     "start_time": "2023-08-13T12:24:40.266086",
     "status": "completed"
    },
    "tags": []
   },
   "outputs": [
    {
     "name": "stdout",
     "output_type": "stream",
     "text": [
      "Model with 10 esitmators: \n",
      "Model accuracy on test set: 85.25\n",
      "Model with 20 esitmators: \n",
      "Model accuracy on test set: 81.97\n",
      "Model with 30 esitmators: \n",
      "Model accuracy on test set: 83.61\n",
      "Model with 40 esitmators: \n",
      "Model accuracy on test set: 85.25\n",
      "Model with 50 esitmators: \n",
      "Model accuracy on test set: 83.61\n",
      "Model with 60 esitmators: \n",
      "Model accuracy on test set: 85.25\n",
      "Model with 70 esitmators: \n",
      "Model accuracy on test set: 81.97\n",
      "Model with 80 esitmators: \n",
      "Model accuracy on test set: 83.61\n",
      "Model with 90 esitmators: \n",
      "Model accuracy on test set: 86.89\n"
     ]
    }
   ],
   "source": [
    "# Improve the model\n",
    "# Try diff amount of n_estimators\n",
    "np.random.seed(42)\n",
    "for i in range(10, 100, 10):\n",
    "    print(f\"Model with {i} esitmators: \")\n",
    "    clf = RandomForestClassifier(n_estimators=i).fit(X_train, y_train)\n",
    "    print(f\"Model accuracy on test set: {clf.score(X_test, y_test) * 100:.2f}\")"
   ]
  },
  {
   "cell_type": "code",
   "execution_count": 17,
   "id": "2ae80326",
   "metadata": {
    "execution": {
     "iopub.execute_input": "2023-08-13T12:24:41.495669Z",
     "iopub.status.busy": "2023-08-13T12:24:41.495257Z",
     "iopub.status.idle": "2023-08-13T12:24:41.506073Z",
     "shell.execute_reply": "2023-08-13T12:24:41.505249Z"
    },
    "papermill": {
     "duration": 0.02464,
     "end_time": "2023-08-13T12:24:41.508512",
     "exception": false,
     "start_time": "2023-08-13T12:24:41.483872",
     "status": "completed"
    },
    "tags": []
   },
   "outputs": [],
   "source": [
    "# Save load\n",
    "import pickle\n",
    "pickle.dump(clf, open(\"random_forest_model_heart_disease.pkl\", \"wb\"))"
   ]
  },
  {
   "cell_type": "code",
   "execution_count": 18,
   "id": "6e96640a",
   "metadata": {
    "execution": {
     "iopub.execute_input": "2023-08-13T12:24:41.531385Z",
     "iopub.status.busy": "2023-08-13T12:24:41.530601Z",
     "iopub.status.idle": "2023-08-13T12:24:41.557729Z",
     "shell.execute_reply": "2023-08-13T12:24:41.556423Z"
    },
    "papermill": {
     "duration": 0.041362,
     "end_time": "2023-08-13T12:24:41.560212",
     "exception": false,
     "start_time": "2023-08-13T12:24:41.518850",
     "status": "completed"
    },
    "tags": []
   },
   "outputs": [
    {
     "data": {
      "text/plain": [
       "0.8688524590163934"
      ]
     },
     "execution_count": 18,
     "metadata": {},
     "output_type": "execute_result"
    }
   ],
   "source": [
    "loaded_model = pickle.load(open(\"/kaggle/working/random_forest_model_heart_disease.pkl\", \"rb\"))\n",
    "loaded_model.score(X_test, y_test)"
   ]
  },
  {
   "cell_type": "code",
   "execution_count": null,
   "id": "6db109bb",
   "metadata": {
    "papermill": {
     "duration": 0.010143,
     "end_time": "2023-08-13T12:24:41.580795",
     "exception": false,
     "start_time": "2023-08-13T12:24:41.570652",
     "status": "completed"
    },
    "tags": []
   },
   "outputs": [],
   "source": []
  }
 ],
 "metadata": {
  "kernelspec": {
   "display_name": "Python 3",
   "language": "python",
   "name": "python3"
  },
  "language_info": {
   "codemirror_mode": {
    "name": "ipython",
    "version": 3
   },
   "file_extension": ".py",
   "mimetype": "text/x-python",
   "name": "python",
   "nbconvert_exporter": "python",
   "pygments_lexer": "ipython3",
   "version": "3.10.12"
  },
  "papermill": {
   "default_parameters": {},
   "duration": 16.18056,
   "end_time": "2023-08-13T12:24:42.515885",
   "environment_variables": {},
   "exception": null,
   "input_path": "__notebook__.ipynb",
   "output_path": "__notebook__.ipynb",
   "parameters": {},
   "start_time": "2023-08-13T12:24:26.335325",
   "version": "2.4.0"
  }
 },
 "nbformat": 4,
 "nbformat_minor": 5
}
