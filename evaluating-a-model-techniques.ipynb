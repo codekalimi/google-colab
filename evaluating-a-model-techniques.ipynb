{
 "cells": [
  {
   "cell_type": "code",
   "execution_count": 1,
   "id": "383441a1",
   "metadata": {
    "_cell_guid": "b1076dfc-b9ad-4769-8c92-a6c4dae69d19",
    "_uuid": "8f2839f25d086af736a60e9eeb907d3b93b6e0e5",
    "execution": {
     "iopub.execute_input": "2023-08-15T07:52:53.036523Z",
     "iopub.status.busy": "2023-08-15T07:52:53.035695Z",
     "iopub.status.idle": "2023-08-15T07:52:53.059515Z",
     "shell.execute_reply": "2023-08-15T07:52:53.058410Z"
    },
    "papermill": {
     "duration": 0.033403,
     "end_time": "2023-08-15T07:52:53.061914",
     "exception": false,
     "start_time": "2023-08-15T07:52:53.028511",
     "status": "completed"
    },
    "tags": []
   },
   "outputs": [
    {
     "name": "stdout",
     "output_type": "stream",
     "text": [
      "/kaggle/input/heart-disease-example/heart-disease.csv\n"
     ]
    }
   ],
   "source": [
    "# This Python 3 environment comes with many helpful analytics libraries installed\n",
    "# It is defined by the kaggle/python Docker image: https://github.com/kaggle/docker-python\n",
    "# For example, here's several helpful packages to load\n",
    "\n",
    "import numpy as np # linear algebra\n",
    "import pandas as pd # data processing, CSV file I/O (e.g. pd.read_csv)\n",
    "\n",
    "# Input data files are available in the read-only \"../input/\" directory\n",
    "# For example, running this (by clicking run or pressing Shift+Enter) will list all files under the input directory\n",
    "\n",
    "import os\n",
    "for dirname, _, filenames in os.walk('/kaggle/input'):\n",
    "    for filename in filenames:\n",
    "        print(os.path.join(dirname, filename))\n",
    "\n",
    "# You can write up to 20GB to the current directory (/kaggle/working/) that gets preserved as output when you create a version using \"Save & Run All\" \n",
    "# You can also write temporary files to /kaggle/temp/, but they won't be saved outside of the current session"
   ]
  },
  {
   "cell_type": "markdown",
   "id": "60245ef4",
   "metadata": {
    "papermill": {
     "duration": 0.004039,
     "end_time": "2023-08-15T07:52:53.071025",
     "exception": false,
     "start_time": "2023-08-15T07:52:53.066986",
     "status": "completed"
    },
    "tags": []
   },
   "source": [
    "# There are 3 main ways to evaluate a model prediction\n",
    "1. Built in `score()` method\n",
    "2. By **Scoring Parameters**\n",
    "3. By `Metric` function"
   ]
  },
  {
   "cell_type": "markdown",
   "id": "c6a1bc22",
   "metadata": {
    "papermill": {
     "duration": 0.003896,
     "end_time": "2023-08-15T07:52:53.079284",
     "exception": false,
     "start_time": "2023-08-15T07:52:53.075388",
     "status": "completed"
    },
    "tags": []
   },
   "source": [
    "## 1. Let's evaluate a model with the `score()` method"
   ]
  },
  {
   "cell_type": "code",
   "execution_count": 2,
   "id": "6e4804c8",
   "metadata": {
    "execution": {
     "iopub.execute_input": "2023-08-15T07:52:53.089313Z",
     "iopub.status.busy": "2023-08-15T07:52:53.088920Z",
     "iopub.status.idle": "2023-08-15T07:52:53.130885Z",
     "shell.execute_reply": "2023-08-15T07:52:53.129741Z"
    },
    "papermill": {
     "duration": 0.049678,
     "end_time": "2023-08-15T07:52:53.133123",
     "exception": false,
     "start_time": "2023-08-15T07:52:53.083445",
     "status": "completed"
    },
    "tags": []
   },
   "outputs": [
    {
     "data": {
      "text/html": [
       "<div>\n",
       "<style scoped>\n",
       "    .dataframe tbody tr th:only-of-type {\n",
       "        vertical-align: middle;\n",
       "    }\n",
       "\n",
       "    .dataframe tbody tr th {\n",
       "        vertical-align: top;\n",
       "    }\n",
       "\n",
       "    .dataframe thead th {\n",
       "        text-align: right;\n",
       "    }\n",
       "</style>\n",
       "<table border=\"1\" class=\"dataframe\">\n",
       "  <thead>\n",
       "    <tr style=\"text-align: right;\">\n",
       "      <th></th>\n",
       "      <th>age</th>\n",
       "      <th>sex</th>\n",
       "      <th>cp</th>\n",
       "      <th>trestbps</th>\n",
       "      <th>chol</th>\n",
       "      <th>fbs</th>\n",
       "      <th>restecg</th>\n",
       "      <th>thalach</th>\n",
       "      <th>exang</th>\n",
       "      <th>oldpeak</th>\n",
       "      <th>slope</th>\n",
       "      <th>ca</th>\n",
       "      <th>thal</th>\n",
       "      <th>target</th>\n",
       "    </tr>\n",
       "  </thead>\n",
       "  <tbody>\n",
       "    <tr>\n",
       "      <th>0</th>\n",
       "      <td>63</td>\n",
       "      <td>1</td>\n",
       "      <td>3</td>\n",
       "      <td>145</td>\n",
       "      <td>233</td>\n",
       "      <td>1</td>\n",
       "      <td>0</td>\n",
       "      <td>150</td>\n",
       "      <td>0</td>\n",
       "      <td>2.3</td>\n",
       "      <td>0</td>\n",
       "      <td>0</td>\n",
       "      <td>1</td>\n",
       "      <td>1</td>\n",
       "    </tr>\n",
       "    <tr>\n",
       "      <th>1</th>\n",
       "      <td>37</td>\n",
       "      <td>1</td>\n",
       "      <td>2</td>\n",
       "      <td>130</td>\n",
       "      <td>250</td>\n",
       "      <td>0</td>\n",
       "      <td>1</td>\n",
       "      <td>187</td>\n",
       "      <td>0</td>\n",
       "      <td>3.5</td>\n",
       "      <td>0</td>\n",
       "      <td>0</td>\n",
       "      <td>2</td>\n",
       "      <td>1</td>\n",
       "    </tr>\n",
       "    <tr>\n",
       "      <th>2</th>\n",
       "      <td>41</td>\n",
       "      <td>0</td>\n",
       "      <td>1</td>\n",
       "      <td>130</td>\n",
       "      <td>204</td>\n",
       "      <td>0</td>\n",
       "      <td>0</td>\n",
       "      <td>172</td>\n",
       "      <td>0</td>\n",
       "      <td>1.4</td>\n",
       "      <td>2</td>\n",
       "      <td>0</td>\n",
       "      <td>2</td>\n",
       "      <td>1</td>\n",
       "    </tr>\n",
       "    <tr>\n",
       "      <th>3</th>\n",
       "      <td>56</td>\n",
       "      <td>1</td>\n",
       "      <td>1</td>\n",
       "      <td>120</td>\n",
       "      <td>236</td>\n",
       "      <td>0</td>\n",
       "      <td>1</td>\n",
       "      <td>178</td>\n",
       "      <td>0</td>\n",
       "      <td>0.8</td>\n",
       "      <td>2</td>\n",
       "      <td>0</td>\n",
       "      <td>2</td>\n",
       "      <td>1</td>\n",
       "    </tr>\n",
       "    <tr>\n",
       "      <th>4</th>\n",
       "      <td>57</td>\n",
       "      <td>0</td>\n",
       "      <td>0</td>\n",
       "      <td>120</td>\n",
       "      <td>354</td>\n",
       "      <td>0</td>\n",
       "      <td>1</td>\n",
       "      <td>163</td>\n",
       "      <td>1</td>\n",
       "      <td>0.6</td>\n",
       "      <td>2</td>\n",
       "      <td>0</td>\n",
       "      <td>2</td>\n",
       "      <td>1</td>\n",
       "    </tr>\n",
       "  </tbody>\n",
       "</table>\n",
       "</div>"
      ],
      "text/plain": [
       "   age  sex  cp  trestbps  chol  fbs  restecg  thalach  exang  oldpeak  slope  \\\n",
       "0   63    1   3       145   233    1        0      150      0      2.3      0   \n",
       "1   37    1   2       130   250    0        1      187      0      3.5      0   \n",
       "2   41    0   1       130   204    0        0      172      0      1.4      2   \n",
       "3   56    1   1       120   236    0        1      178      0      0.8      2   \n",
       "4   57    0   0       120   354    0        1      163      1      0.6      2   \n",
       "\n",
       "   ca  thal  target  \n",
       "0   0     1       1  \n",
       "1   0     2       1  \n",
       "2   0     2       1  \n",
       "3   0     2       1  \n",
       "4   0     2       1  "
      ]
     },
     "execution_count": 2,
     "metadata": {},
     "output_type": "execute_result"
    }
   ],
   "source": [
    "heart_diseas_df = pd.read_csv(\"/kaggle/input/heart-disease-example/heart-disease.csv\")\n",
    "heart_diseas_df.head()"
   ]
  },
  {
   "cell_type": "code",
   "execution_count": 3,
   "id": "399fce89",
   "metadata": {
    "execution": {
     "iopub.execute_input": "2023-08-15T07:52:53.144651Z",
     "iopub.status.busy": "2023-08-15T07:52:53.143735Z",
     "iopub.status.idle": "2023-08-15T07:52:53.169975Z",
     "shell.execute_reply": "2023-08-15T07:52:53.168882Z"
    },
    "papermill": {
     "duration": 0.034757,
     "end_time": "2023-08-15T07:52:53.172473",
     "exception": false,
     "start_time": "2023-08-15T07:52:53.137716",
     "status": "completed"
    },
    "tags": []
   },
   "outputs": [
    {
     "name": "stdout",
     "output_type": "stream",
     "text": [
      "<class 'pandas.core.frame.DataFrame'>\n",
      "RangeIndex: 303 entries, 0 to 302\n",
      "Data columns (total 14 columns):\n",
      " #   Column    Non-Null Count  Dtype  \n",
      "---  ------    --------------  -----  \n",
      " 0   age       303 non-null    int64  \n",
      " 1   sex       303 non-null    int64  \n",
      " 2   cp        303 non-null    int64  \n",
      " 3   trestbps  303 non-null    int64  \n",
      " 4   chol      303 non-null    int64  \n",
      " 5   fbs       303 non-null    int64  \n",
      " 6   restecg   303 non-null    int64  \n",
      " 7   thalach   303 non-null    int64  \n",
      " 8   exang     303 non-null    int64  \n",
      " 9   oldpeak   303 non-null    float64\n",
      " 10  slope     303 non-null    int64  \n",
      " 11  ca        303 non-null    int64  \n",
      " 12  thal      303 non-null    int64  \n",
      " 13  target    303 non-null    int64  \n",
      "dtypes: float64(1), int64(13)\n",
      "memory usage: 33.3 KB\n"
     ]
    }
   ],
   "source": [
    "# Check the data before model fitting\n",
    "heart_diseas_df.info()"
   ]
  },
  {
   "cell_type": "code",
   "execution_count": 4,
   "id": "3ca90a59",
   "metadata": {
    "execution": {
     "iopub.execute_input": "2023-08-15T07:52:53.184423Z",
     "iopub.status.busy": "2023-08-15T07:52:53.183707Z",
     "iopub.status.idle": "2023-08-15T07:52:53.189082Z",
     "shell.execute_reply": "2023-08-15T07:52:53.188384Z"
    },
    "papermill": {
     "duration": 0.014,
     "end_time": "2023-08-15T07:52:53.191201",
     "exception": false,
     "start_time": "2023-08-15T07:52:53.177201",
     "status": "completed"
    },
    "tags": []
   },
   "outputs": [
    {
     "data": {
      "text/plain": [
       "303"
      ]
     },
     "execution_count": 4,
     "metadata": {},
     "output_type": "execute_result"
    }
   ],
   "source": [
    "len(heart_diseas_df)"
   ]
  },
  {
   "cell_type": "code",
   "execution_count": 5,
   "id": "04310bfe",
   "metadata": {
    "execution": {
     "iopub.execute_input": "2023-08-15T07:52:53.202617Z",
     "iopub.status.busy": "2023-08-15T07:52:53.202217Z",
     "iopub.status.idle": "2023-08-15T07:52:53.209239Z",
     "shell.execute_reply": "2023-08-15T07:52:53.208388Z"
    },
    "papermill": {
     "duration": 0.015508,
     "end_time": "2023-08-15T07:52:53.211493",
     "exception": false,
     "start_time": "2023-08-15T07:52:53.195985",
     "status": "completed"
    },
    "tags": []
   },
   "outputs": [],
   "source": [
    "# split into feature and target\n",
    "X = heart_diseas_df.drop(\"target\", axis=1)\n",
    "y = heart_diseas_df[\"target\"]"
   ]
  },
  {
   "cell_type": "code",
   "execution_count": 6,
   "id": "c23d942b",
   "metadata": {
    "execution": {
     "iopub.execute_input": "2023-08-15T07:52:53.223068Z",
     "iopub.status.busy": "2023-08-15T07:52:53.222471Z",
     "iopub.status.idle": "2023-08-15T07:52:53.227853Z",
     "shell.execute_reply": "2023-08-15T07:52:53.226981Z"
    },
    "papermill": {
     "duration": 0.013508,
     "end_time": "2023-08-15T07:52:53.229730",
     "exception": false,
     "start_time": "2023-08-15T07:52:53.216222",
     "status": "completed"
    },
    "tags": []
   },
   "outputs": [
    {
     "data": {
      "text/plain": [
       "((303, 13), (303,))"
      ]
     },
     "execution_count": 6,
     "metadata": {},
     "output_type": "execute_result"
    }
   ],
   "source": [
    "X.shape, y.shape"
   ]
  },
  {
   "cell_type": "code",
   "execution_count": 7,
   "id": "16b8da9f",
   "metadata": {
    "execution": {
     "iopub.execute_input": "2023-08-15T07:52:53.241221Z",
     "iopub.status.busy": "2023-08-15T07:52:53.240634Z",
     "iopub.status.idle": "2023-08-15T07:52:54.808060Z",
     "shell.execute_reply": "2023-08-15T07:52:54.807157Z"
    },
    "papermill": {
     "duration": 1.575897,
     "end_time": "2023-08-15T07:52:54.810431",
     "exception": false,
     "start_time": "2023-08-15T07:52:53.234534",
     "status": "completed"
    },
    "tags": []
   },
   "outputs": [
    {
     "name": "stderr",
     "output_type": "stream",
     "text": [
      "/opt/conda/lib/python3.10/site-packages/scipy/__init__.py:146: UserWarning: A NumPy version >=1.16.5 and <1.23.0 is required for this version of SciPy (detected version 1.23.5\n",
      "  warnings.warn(f\"A NumPy version >={np_minversion} and <{np_maxversion}\"\n"
     ]
    }
   ],
   "source": [
    "from sklearn.model_selection import train_test_split\n",
    "from sklearn.ensemble import RandomForestClassifier"
   ]
  },
  {
   "cell_type": "code",
   "execution_count": 8,
   "id": "7b32c5f4",
   "metadata": {
    "execution": {
     "iopub.execute_input": "2023-08-15T07:52:54.822208Z",
     "iopub.status.busy": "2023-08-15T07:52:54.821624Z",
     "iopub.status.idle": "2023-08-15T07:52:54.828389Z",
     "shell.execute_reply": "2023-08-15T07:52:54.827164Z"
    },
    "papermill": {
     "duration": 0.015563,
     "end_time": "2023-08-15T07:52:54.830978",
     "exception": false,
     "start_time": "2023-08-15T07:52:54.815415",
     "status": "completed"
    },
    "tags": []
   },
   "outputs": [],
   "source": [
    "# split data into train and test\n",
    "X_train, X_test, y_train, y_test = train_test_split(X, y, test_size=0.2)"
   ]
  },
  {
   "cell_type": "code",
   "execution_count": 9,
   "id": "f4a494d8",
   "metadata": {
    "execution": {
     "iopub.execute_input": "2023-08-15T07:52:54.844425Z",
     "iopub.status.busy": "2023-08-15T07:52:54.844001Z",
     "iopub.status.idle": "2023-08-15T07:52:55.046297Z",
     "shell.execute_reply": "2023-08-15T07:52:55.045149Z"
    },
    "papermill": {
     "duration": 0.211193,
     "end_time": "2023-08-15T07:52:55.048713",
     "exception": false,
     "start_time": "2023-08-15T07:52:54.837520",
     "status": "completed"
    },
    "tags": []
   },
   "outputs": [
    {
     "data": {
      "text/html": [
       "<style>#sk-container-id-1 {color: black;background-color: white;}#sk-container-id-1 pre{padding: 0;}#sk-container-id-1 div.sk-toggleable {background-color: white;}#sk-container-id-1 label.sk-toggleable__label {cursor: pointer;display: block;width: 100%;margin-bottom: 0;padding: 0.3em;box-sizing: border-box;text-align: center;}#sk-container-id-1 label.sk-toggleable__label-arrow:before {content: \"▸\";float: left;margin-right: 0.25em;color: #696969;}#sk-container-id-1 label.sk-toggleable__label-arrow:hover:before {color: black;}#sk-container-id-1 div.sk-estimator:hover label.sk-toggleable__label-arrow:before {color: black;}#sk-container-id-1 div.sk-toggleable__content {max-height: 0;max-width: 0;overflow: hidden;text-align: left;background-color: #f0f8ff;}#sk-container-id-1 div.sk-toggleable__content pre {margin: 0.2em;color: black;border-radius: 0.25em;background-color: #f0f8ff;}#sk-container-id-1 input.sk-toggleable__control:checked~div.sk-toggleable__content {max-height: 200px;max-width: 100%;overflow: auto;}#sk-container-id-1 input.sk-toggleable__control:checked~label.sk-toggleable__label-arrow:before {content: \"▾\";}#sk-container-id-1 div.sk-estimator input.sk-toggleable__control:checked~label.sk-toggleable__label {background-color: #d4ebff;}#sk-container-id-1 div.sk-label input.sk-toggleable__control:checked~label.sk-toggleable__label {background-color: #d4ebff;}#sk-container-id-1 input.sk-hidden--visually {border: 0;clip: rect(1px 1px 1px 1px);clip: rect(1px, 1px, 1px, 1px);height: 1px;margin: -1px;overflow: hidden;padding: 0;position: absolute;width: 1px;}#sk-container-id-1 div.sk-estimator {font-family: monospace;background-color: #f0f8ff;border: 1px dotted black;border-radius: 0.25em;box-sizing: border-box;margin-bottom: 0.5em;}#sk-container-id-1 div.sk-estimator:hover {background-color: #d4ebff;}#sk-container-id-1 div.sk-parallel-item::after {content: \"\";width: 100%;border-bottom: 1px solid gray;flex-grow: 1;}#sk-container-id-1 div.sk-label:hover label.sk-toggleable__label {background-color: #d4ebff;}#sk-container-id-1 div.sk-serial::before {content: \"\";position: absolute;border-left: 1px solid gray;box-sizing: border-box;top: 0;bottom: 0;left: 50%;z-index: 0;}#sk-container-id-1 div.sk-serial {display: flex;flex-direction: column;align-items: center;background-color: white;padding-right: 0.2em;padding-left: 0.2em;position: relative;}#sk-container-id-1 div.sk-item {position: relative;z-index: 1;}#sk-container-id-1 div.sk-parallel {display: flex;align-items: stretch;justify-content: center;background-color: white;position: relative;}#sk-container-id-1 div.sk-item::before, #sk-container-id-1 div.sk-parallel-item::before {content: \"\";position: absolute;border-left: 1px solid gray;box-sizing: border-box;top: 0;bottom: 0;left: 50%;z-index: -1;}#sk-container-id-1 div.sk-parallel-item {display: flex;flex-direction: column;z-index: 1;position: relative;background-color: white;}#sk-container-id-1 div.sk-parallel-item:first-child::after {align-self: flex-end;width: 50%;}#sk-container-id-1 div.sk-parallel-item:last-child::after {align-self: flex-start;width: 50%;}#sk-container-id-1 div.sk-parallel-item:only-child::after {width: 0;}#sk-container-id-1 div.sk-dashed-wrapped {border: 1px dashed gray;margin: 0 0.4em 0.5em 0.4em;box-sizing: border-box;padding-bottom: 0.4em;background-color: white;}#sk-container-id-1 div.sk-label label {font-family: monospace;font-weight: bold;display: inline-block;line-height: 1.2em;}#sk-container-id-1 div.sk-label-container {text-align: center;}#sk-container-id-1 div.sk-container {/* jupyter's `normalize.less` sets `[hidden] { display: none; }` but bootstrap.min.css set `[hidden] { display: none !important; }` so we also need the `!important` here to be able to override the default hidden behavior on the sphinx rendered scikit-learn.org. See: https://github.com/scikit-learn/scikit-learn/issues/21755 */display: inline-block !important;position: relative;}#sk-container-id-1 div.sk-text-repr-fallback {display: none;}</style><div id=\"sk-container-id-1\" class=\"sk-top-container\"><div class=\"sk-text-repr-fallback\"><pre>RandomForestClassifier()</pre><b>In a Jupyter environment, please rerun this cell to show the HTML representation or trust the notebook. <br />On GitHub, the HTML representation is unable to render, please try loading this page with nbviewer.org.</b></div><div class=\"sk-container\" hidden><div class=\"sk-item\"><div class=\"sk-estimator sk-toggleable\"><input class=\"sk-toggleable__control sk-hidden--visually\" id=\"sk-estimator-id-1\" type=\"checkbox\" checked><label for=\"sk-estimator-id-1\" class=\"sk-toggleable__label sk-toggleable__label-arrow\">RandomForestClassifier</label><div class=\"sk-toggleable__content\"><pre>RandomForestClassifier()</pre></div></div></div></div></div>"
      ],
      "text/plain": [
       "RandomForestClassifier()"
      ]
     },
     "execution_count": 9,
     "metadata": {},
     "output_type": "execute_result"
    }
   ],
   "source": [
    "# fit the model\n",
    "rfc = RandomForestClassifier()\n",
    "rfc.fit(X_train, y_train)"
   ]
  },
  {
   "cell_type": "code",
   "execution_count": 10,
   "id": "4c2abb98",
   "metadata": {
    "execution": {
     "iopub.execute_input": "2023-08-15T07:52:55.060525Z",
     "iopub.status.busy": "2023-08-15T07:52:55.060092Z",
     "iopub.status.idle": "2023-08-15T07:52:55.086265Z",
     "shell.execute_reply": "2023-08-15T07:52:55.085107Z"
    },
    "papermill": {
     "duration": 0.034942,
     "end_time": "2023-08-15T07:52:55.088780",
     "exception": false,
     "start_time": "2023-08-15T07:52:55.053838",
     "status": "completed"
    },
    "tags": []
   },
   "outputs": [
    {
     "data": {
      "text/plain": [
       "0.8032786885245902"
      ]
     },
     "execution_count": 10,
     "metadata": {},
     "output_type": "execute_result"
    }
   ],
   "source": [
    "# Lets evaluate with score() method\n",
    "rfc.score(X_test, y_test)"
   ]
  },
  {
   "cell_type": "markdown",
   "id": "11ca7eb8",
   "metadata": {
    "papermill": {
     "duration": 0.004945,
     "end_time": "2023-08-15T07:52:55.099464",
     "exception": false,
     "start_time": "2023-08-15T07:52:55.094519",
     "status": "completed"
    },
    "tags": []
   },
   "source": [
    "### Let's try with regression problem"
   ]
  },
  {
   "cell_type": "code",
   "execution_count": 11,
   "id": "f6d3a0a0",
   "metadata": {
    "execution": {
     "iopub.execute_input": "2023-08-15T07:52:55.111721Z",
     "iopub.status.busy": "2023-08-15T07:52:55.111298Z",
     "iopub.status.idle": "2023-08-15T07:52:55.116291Z",
     "shell.execute_reply": "2023-08-15T07:52:55.115120Z"
    },
    "papermill": {
     "duration": 0.013809,
     "end_time": "2023-08-15T07:52:55.118660",
     "exception": false,
     "start_time": "2023-08-15T07:52:55.104851",
     "status": "completed"
    },
    "tags": []
   },
   "outputs": [],
   "source": [
    "from sklearn.ensemble import RandomForestRegressor\n",
    "rfr = RandomForestRegressor()"
   ]
  },
  {
   "cell_type": "code",
   "execution_count": 12,
   "id": "ffb46c64",
   "metadata": {
    "execution": {
     "iopub.execute_input": "2023-08-15T07:52:55.130729Z",
     "iopub.status.busy": "2023-08-15T07:52:55.130315Z",
     "iopub.status.idle": "2023-08-15T07:52:55.330961Z",
     "shell.execute_reply": "2023-08-15T07:52:55.329767Z"
    },
    "papermill": {
     "duration": 0.209835,
     "end_time": "2023-08-15T07:52:55.333699",
     "exception": false,
     "start_time": "2023-08-15T07:52:55.123864",
     "status": "completed"
    },
    "tags": []
   },
   "outputs": [
    {
     "data": {
      "text/plain": [
       "0.39930183982684"
      ]
     },
     "execution_count": 12,
     "metadata": {},
     "output_type": "execute_result"
    }
   ],
   "source": [
    "rfr.fit(X_train, y_train)\n",
    "rfr.score(X_test,y_test)"
   ]
  },
  {
   "cell_type": "code",
   "execution_count": null,
   "id": "ea65b299",
   "metadata": {
    "papermill": {
     "duration": 0.005258,
     "end_time": "2023-08-15T07:52:55.344437",
     "exception": false,
     "start_time": "2023-08-15T07:52:55.339179",
     "status": "completed"
    },
    "tags": []
   },
   "outputs": [],
   "source": []
  }
 ],
 "metadata": {
  "kernelspec": {
   "display_name": "Python 3",
   "language": "python",
   "name": "python3"
  },
  "language_info": {
   "codemirror_mode": {
    "name": "ipython",
    "version": 3
   },
   "file_extension": ".py",
   "mimetype": "text/x-python",
   "name": "python",
   "nbconvert_exporter": "python",
   "pygments_lexer": "ipython3",
   "version": "3.10.12"
  },
  "papermill": {
   "default_parameters": {},
   "duration": 16.121786,
   "end_time": "2023-08-15T07:52:58.185923",
   "environment_variables": {},
   "exception": null,
   "input_path": "__notebook__.ipynb",
   "output_path": "__notebook__.ipynb",
   "parameters": {},
   "start_time": "2023-08-15T07:52:42.064137",
   "version": "2.4.0"
  }
 },
 "nbformat": 4,
 "nbformat_minor": 5
}
