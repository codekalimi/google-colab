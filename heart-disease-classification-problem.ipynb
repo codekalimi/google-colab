{
 "cells": [
  {
   "cell_type": "code",
   "execution_count": 1,
   "id": "81f72c41",
   "metadata": {
    "_cell_guid": "b1076dfc-b9ad-4769-8c92-a6c4dae69d19",
    "_uuid": "8f2839f25d086af736a60e9eeb907d3b93b6e0e5",
    "execution": {
     "iopub.execute_input": "2023-08-22T17:41:02.481499Z",
     "iopub.status.busy": "2023-08-22T17:41:02.480612Z",
     "iopub.status.idle": "2023-08-22T17:41:03.992172Z",
     "shell.execute_reply": "2023-08-22T17:41:03.991056Z"
    },
    "papermill": {
     "duration": 1.520555,
     "end_time": "2023-08-22T17:41:03.994604",
     "exception": false,
     "start_time": "2023-08-22T17:41:02.474049",
     "status": "completed"
    },
    "tags": []
   },
   "outputs": [
    {
     "name": "stderr",
     "output_type": "stream",
     "text": [
      "/opt/conda/lib/python3.10/site-packages/scipy/__init__.py:146: UserWarning: A NumPy version >=1.16.5 and <1.23.0 is required for this version of SciPy (detected version 1.23.5\n",
      "  warnings.warn(f\"A NumPy version >={np_minversion} and <{np_maxversion}\"\n"
     ]
    },
    {
     "name": "stdout",
     "output_type": "stream",
     "text": [
      "/kaggle/input/heart-disease-example/heart-disease.csv\n"
     ]
    }
   ],
   "source": [
    "# This Python 3 environment comes with many helpful analytics libraries installed\n",
    "# It is defined by the kaggle/python Docker image: https://github.com/kaggle/docker-python\n",
    "# For example, here's several helpful packages to load\n",
    "\n",
    "import numpy as np # linear algebra\n",
    "import pandas as pd # data processing, CSV file I/O (e.g. pd.read_csv)\n",
    "import matplotlib.pyplot as plt\n",
    "import seaborn as sns\n",
    "\n",
    "# Input data files are available in the read-only \"../input/\" directory\n",
    "# For example, running this (by clicking run or pressing Shift+Enter) will list all files under the input directory\n",
    "\n",
    "import os\n",
    "for dirname, _, filenames in os.walk('/kaggle/input'):\n",
    "    for filename in filenames:\n",
    "        print(os.path.join(dirname, filename))\n",
    "\n",
    "# You can write up to 20GB to the current directory (/kaggle/working/) that gets preserved as output when you create a version using \"Save & Run All\" \n",
    "# You can also write temporary files to /kaggle/temp/, but they won't be saved outside of the current session"
   ]
  },
  {
   "cell_type": "markdown",
   "id": "0da74929",
   "metadata": {
    "papermill": {
     "duration": 0.003945,
     "end_time": "2023-08-22T17:41:04.002961",
     "exception": false,
     "start_time": "2023-08-22T17:41:03.999016",
     "status": "completed"
    },
    "tags": []
   },
   "source": [
    "# Predicting heart disease using machine learning"
   ]
  },
  {
   "cell_type": "markdown",
   "id": "0b87dc82",
   "metadata": {
    "execution": {
     "iopub.execute_input": "2023-08-22T14:06:23.298081Z",
     "iopub.status.busy": "2023-08-22T14:06:23.297541Z",
     "iopub.status.idle": "2023-08-22T14:06:23.305833Z",
     "shell.execute_reply": "2023-08-22T14:06:23.304508Z",
     "shell.execute_reply.started": "2023-08-22T14:06:23.298042Z"
    },
    "papermill": {
     "duration": 0.004219,
     "end_time": "2023-08-22T17:41:04.011580",
     "exception": false,
     "start_time": "2023-08-22T17:41:04.007361",
     "status": "completed"
    },
    "tags": []
   },
   "source": [
    "### Steps approach:\n",
    "1. Problem Definition\n",
    "2. Data\n",
    "3. Evaluation\n",
    "4. Feature Variables\n",
    "5. Modeling\n",
    "6. Experiments"
   ]
  },
  {
   "cell_type": "markdown",
   "id": "1e510533",
   "metadata": {
    "papermill": {
     "duration": 0.004072,
     "end_time": "2023-08-22T17:41:04.020041",
     "exception": false,
     "start_time": "2023-08-22T17:41:04.015969",
     "status": "completed"
    },
    "tags": []
   },
   "source": [
    "## 1. Problem Definition\n",
    "Given clinical parameters about a patient, can we predict if a patient has heart-disease or not!\n",
    "\n",
    "In our case, the problem we will be exploring is **binary classification** (a sample can only be one of two things). \n",
    "\n",
    "This is because we're going to be using a number of differnet **features** (pieces of information) about a person to predict whether they have heart disease or not."
   ]
  },
  {
   "cell_type": "markdown",
   "id": "d74d08a1",
   "metadata": {
    "execution": {
     "iopub.execute_input": "2023-08-22T14:09:59.604687Z",
     "iopub.status.busy": "2023-08-22T14:09:59.604031Z",
     "iopub.status.idle": "2023-08-22T14:09:59.611454Z",
     "shell.execute_reply": "2023-08-22T14:09:59.610091Z",
     "shell.execute_reply.started": "2023-08-22T14:09:59.604639Z"
    },
    "papermill": {
     "duration": 0.003991,
     "end_time": "2023-08-22T17:41:04.028358",
     "exception": false,
     "start_time": "2023-08-22T17:41:04.024367",
     "status": "completed"
    },
    "tags": []
   },
   "source": [
    "## 2. Data\n",
    "Originial dataset ref: https://www.kaggle.com/datasets/codekalimi/heart-disease-example/versions/1\n",
    "\n",
    "What you'll want to do here is dive into the data your problem definition is based on. This may involve, sourcing, defining different parameters, talking to experts about it and finding out what you should expect."
   ]
  },
  {
   "cell_type": "markdown",
   "id": "bad1647e",
   "metadata": {
    "papermill": {
     "duration": 0.003938,
     "end_time": "2023-08-22T17:41:04.036427",
     "exception": false,
     "start_time": "2023-08-22T17:41:04.032489",
     "status": "completed"
    },
    "tags": []
   },
   "source": [
    "## 3. Evaluation\n",
    "The evaluation metric is something you might define at the start of a project.\n",
    "\n",
    "Since machine learning is very experimental, you might say something like, \n",
    "\n",
    "> If we can reach 95% accuracy at predicting whether or not a patient has heart disease during the proof of concept, we'll pursure this project.\n",
    "\n",
    "The reason this is helpful is it provides a rough goal for a machine learning engineer or data scientist to work towards.\n",
    "\n",
    "However, due to the nature of experimentation, the evaluation metric may change over time."
   ]
  },
  {
   "cell_type": "markdown",
   "id": "4a781e13",
   "metadata": {
    "papermill": {
     "duration": 0.003813,
     "end_time": "2023-08-22T17:41:04.044403",
     "exception": false,
     "start_time": "2023-08-22T17:41:04.040590",
     "status": "completed"
    },
    "tags": []
   },
   "source": [
    "## 4. Features\n",
    "This is where you'll get information about each of the features in your data.\n",
    "\n",
    "Features are different parts of the data. During this step, you'll want to start finding out what you can about the data.\n",
    "\n",
    "One of the most common ways to do this, is to create a **data dictionary**.\n",
    "\n",
    "### Heart Disease Data Dictionary\n",
    "\n",
    "A data dictionary describes the data you're dealing with. Not all datasets come with them so this is where you may have to do your research or ask a **subject matter expert** (someone who knows about the data) for more.\n",
    "\n",
    "The following are the features we'll use to predict our target variable (heart disease or no heart disease).\n",
    "\n",
    "1. age - age in years \n",
    "2. sex - (1 = male; 0 = female) \n",
    "3. cp - chest pain type \n",
    "    * 0: Typical angina: chest pain related decrease blood supply to the heart\n",
    "    * 1: Atypical angina: chest pain not related to heart\n",
    "    * 2: Non-anginal pain: typically esophageal spasms (non heart related)\n",
    "    * 3: Asymptomatic: chest pain not showing signs of disease\n",
    "4. trestbps - resting blood pressure (in mm Hg on admission to the hospital)\n",
    "    * anything above 130-140 is typically cause for concern\n",
    "5. chol - serum cholestoral in mg/dl \n",
    "    * serum = LDL + HDL + .2 * triglycerides\n",
    "    * above 200 is cause for concern\n",
    "6. fbs - (fasting blood sugar > 120 mg/dl) (1 = true; 0 = false) \n",
    "    * '>126' mg/dL signals diabetes\n",
    "7. restecg - resting electrocardiographic results\n",
    "    * 0: Nothing to note\n",
    "    * 1: ST-T Wave abnormality\n",
    "        - can range from mild symptoms to severe problems\n",
    "        - signals non-normal heart beat\n",
    "    * 2: Possible or definite left ventricular hypertrophy\n",
    "        - Enlarged heart's main pumping chamber\n",
    "8. thalach - maximum heart rate achieved \n",
    "9. exang - exercise induced angina (1 = yes; 0 = no) \n",
    "10. oldpeak - ST depression induced by exercise relative to rest \n",
    "    * looks at stress of heart during excercise\n",
    "    * unhealthy heart will stress more\n",
    "11. slope - the slope of the peak exercise ST segment\n",
    "    * 0: Upsloping: better heart rate with excercise (uncommon)\n",
    "    * 1: Flatsloping: minimal change (typical healthy heart)\n",
    "    * 2: Downslopins: signs of unhealthy heart\n",
    "12. ca - number of major vessels (0-3) colored by flourosopy \n",
    "    * colored vessel means the doctor can see the blood passing through\n",
    "    * the more blood movement the better (no clots)\n",
    "13. thal - thalium stress result\n",
    "    * 1,3: normal\n",
    "    * 6: fixed defect: used to be defect but ok now\n",
    "    * 7: reversable defect: no proper blood movement when excercising \n",
    "14. target - have disease or not (1=yes, 0=no) (= the predicted attribute)\n",
    "\n",
    "**Note:** No personal identifiable information (PPI) can be found in the dataset.\n",
    "\n",
    "It's a good idea to save these to a Python dictionary or in an external file, so we can look at them later without coming back here."
   ]
  },
  {
   "cell_type": "markdown",
   "id": "79d9ab5d",
   "metadata": {
    "papermill": {
     "duration": 0.003816,
     "end_time": "2023-08-22T17:41:04.052425",
     "exception": false,
     "start_time": "2023-08-22T17:41:04.048609",
     "status": "completed"
    },
    "tags": []
   },
   "source": [
    "### Preparing the tools\n",
    "import all the neccessary EDA and libraries"
   ]
  },
  {
   "cell_type": "code",
   "execution_count": 2,
   "id": "ac62cfcd",
   "metadata": {
    "execution": {
     "iopub.execute_input": "2023-08-22T17:41:04.062384Z",
     "iopub.status.busy": "2023-08-22T17:41:04.062032Z",
     "iopub.status.idle": "2023-08-22T17:41:04.732646Z",
     "shell.execute_reply": "2023-08-22T17:41:04.731734Z"
    },
    "papermill": {
     "duration": 0.678511,
     "end_time": "2023-08-22T17:41:04.734990",
     "exception": false,
     "start_time": "2023-08-22T17:41:04.056479",
     "status": "completed"
    },
    "tags": []
   },
   "outputs": [],
   "source": [
    "# models from sklearn\n",
    "from sklearn.linear_model import LogisticRegression\n",
    "from sklearn.neighbors import KNeighborsClassifier\n",
    "from sklearn.ensemble import RandomForestClassifier\n",
    "\n",
    "# model evaluations\n",
    "from sklearn.model_selection import train_test_split, cross_val_score, RandomizedSearchCV, GridSearchCV\n",
    "from sklearn.metrics import confusion_matrix, classification_report, precision_score, recall_score, f1_score\n",
    "from sklearn.metrics import RocCurveDisplay"
   ]
  },
  {
   "cell_type": "markdown",
   "id": "87bd4427",
   "metadata": {
    "papermill": {
     "duration": 0.003994,
     "end_time": "2023-08-22T17:41:04.743485",
     "exception": false,
     "start_time": "2023-08-22T17:41:04.739491",
     "status": "completed"
    },
    "tags": []
   },
   "source": [
    "## Load Data"
   ]
  },
  {
   "cell_type": "code",
   "execution_count": 3,
   "id": "fc4cbb15",
   "metadata": {
    "execution": {
     "iopub.execute_input": "2023-08-22T17:41:04.754462Z",
     "iopub.status.busy": "2023-08-22T17:41:04.753268Z",
     "iopub.status.idle": "2023-08-22T17:41:04.793151Z",
     "shell.execute_reply": "2023-08-22T17:41:04.791719Z"
    },
    "papermill": {
     "duration": 0.047927,
     "end_time": "2023-08-22T17:41:04.795761",
     "exception": false,
     "start_time": "2023-08-22T17:41:04.747834",
     "status": "completed"
    },
    "tags": []
   },
   "outputs": [
    {
     "data": {
      "text/html": [
       "<div>\n",
       "<style scoped>\n",
       "    .dataframe tbody tr th:only-of-type {\n",
       "        vertical-align: middle;\n",
       "    }\n",
       "\n",
       "    .dataframe tbody tr th {\n",
       "        vertical-align: top;\n",
       "    }\n",
       "\n",
       "    .dataframe thead th {\n",
       "        text-align: right;\n",
       "    }\n",
       "</style>\n",
       "<table border=\"1\" class=\"dataframe\">\n",
       "  <thead>\n",
       "    <tr style=\"text-align: right;\">\n",
       "      <th></th>\n",
       "      <th>age</th>\n",
       "      <th>sex</th>\n",
       "      <th>cp</th>\n",
       "      <th>trestbps</th>\n",
       "      <th>chol</th>\n",
       "      <th>fbs</th>\n",
       "      <th>restecg</th>\n",
       "      <th>thalach</th>\n",
       "      <th>exang</th>\n",
       "      <th>oldpeak</th>\n",
       "      <th>slope</th>\n",
       "      <th>ca</th>\n",
       "      <th>thal</th>\n",
       "      <th>target</th>\n",
       "    </tr>\n",
       "  </thead>\n",
       "  <tbody>\n",
       "    <tr>\n",
       "      <th>0</th>\n",
       "      <td>63</td>\n",
       "      <td>1</td>\n",
       "      <td>3</td>\n",
       "      <td>145</td>\n",
       "      <td>233</td>\n",
       "      <td>1</td>\n",
       "      <td>0</td>\n",
       "      <td>150</td>\n",
       "      <td>0</td>\n",
       "      <td>2.3</td>\n",
       "      <td>0</td>\n",
       "      <td>0</td>\n",
       "      <td>1</td>\n",
       "      <td>1</td>\n",
       "    </tr>\n",
       "    <tr>\n",
       "      <th>1</th>\n",
       "      <td>37</td>\n",
       "      <td>1</td>\n",
       "      <td>2</td>\n",
       "      <td>130</td>\n",
       "      <td>250</td>\n",
       "      <td>0</td>\n",
       "      <td>1</td>\n",
       "      <td>187</td>\n",
       "      <td>0</td>\n",
       "      <td>3.5</td>\n",
       "      <td>0</td>\n",
       "      <td>0</td>\n",
       "      <td>2</td>\n",
       "      <td>1</td>\n",
       "    </tr>\n",
       "    <tr>\n",
       "      <th>2</th>\n",
       "      <td>41</td>\n",
       "      <td>0</td>\n",
       "      <td>1</td>\n",
       "      <td>130</td>\n",
       "      <td>204</td>\n",
       "      <td>0</td>\n",
       "      <td>0</td>\n",
       "      <td>172</td>\n",
       "      <td>0</td>\n",
       "      <td>1.4</td>\n",
       "      <td>2</td>\n",
       "      <td>0</td>\n",
       "      <td>2</td>\n",
       "      <td>1</td>\n",
       "    </tr>\n",
       "    <tr>\n",
       "      <th>3</th>\n",
       "      <td>56</td>\n",
       "      <td>1</td>\n",
       "      <td>1</td>\n",
       "      <td>120</td>\n",
       "      <td>236</td>\n",
       "      <td>0</td>\n",
       "      <td>1</td>\n",
       "      <td>178</td>\n",
       "      <td>0</td>\n",
       "      <td>0.8</td>\n",
       "      <td>2</td>\n",
       "      <td>0</td>\n",
       "      <td>2</td>\n",
       "      <td>1</td>\n",
       "    </tr>\n",
       "    <tr>\n",
       "      <th>4</th>\n",
       "      <td>57</td>\n",
       "      <td>0</td>\n",
       "      <td>0</td>\n",
       "      <td>120</td>\n",
       "      <td>354</td>\n",
       "      <td>0</td>\n",
       "      <td>1</td>\n",
       "      <td>163</td>\n",
       "      <td>1</td>\n",
       "      <td>0.6</td>\n",
       "      <td>2</td>\n",
       "      <td>0</td>\n",
       "      <td>2</td>\n",
       "      <td>1</td>\n",
       "    </tr>\n",
       "  </tbody>\n",
       "</table>\n",
       "</div>"
      ],
      "text/plain": [
       "   age  sex  cp  trestbps  chol  fbs  restecg  thalach  exang  oldpeak  slope  \\\n",
       "0   63    1   3       145   233    1        0      150      0      2.3      0   \n",
       "1   37    1   2       130   250    0        1      187      0      3.5      0   \n",
       "2   41    0   1       130   204    0        0      172      0      1.4      2   \n",
       "3   56    1   1       120   236    0        1      178      0      0.8      2   \n",
       "4   57    0   0       120   354    0        1      163      1      0.6      2   \n",
       "\n",
       "   ca  thal  target  \n",
       "0   0     1       1  \n",
       "1   0     2       1  \n",
       "2   0     2       1  \n",
       "3   0     2       1  \n",
       "4   0     2       1  "
      ]
     },
     "execution_count": 3,
     "metadata": {},
     "output_type": "execute_result"
    }
   ],
   "source": [
    "df = pd.read_csv(\"/kaggle/input/heart-disease-example/heart-disease.csv\")\n",
    "df.head()"
   ]
  },
  {
   "cell_type": "code",
   "execution_count": 4,
   "id": "a2b6fafd",
   "metadata": {
    "execution": {
     "iopub.execute_input": "2023-08-22T17:41:04.807783Z",
     "iopub.status.busy": "2023-08-22T17:41:04.807405Z",
     "iopub.status.idle": "2023-08-22T17:41:04.814555Z",
     "shell.execute_reply": "2023-08-22T17:41:04.813525Z"
    },
    "papermill": {
     "duration": 0.015069,
     "end_time": "2023-08-22T17:41:04.816700",
     "exception": false,
     "start_time": "2023-08-22T17:41:04.801631",
     "status": "completed"
    },
    "tags": []
   },
   "outputs": [
    {
     "data": {
      "text/plain": [
       "(303, 14)"
      ]
     },
     "execution_count": 4,
     "metadata": {},
     "output_type": "execute_result"
    }
   ],
   "source": [
    "df.shape"
   ]
  },
  {
   "cell_type": "code",
   "execution_count": 5,
   "id": "33a93909",
   "metadata": {
    "execution": {
     "iopub.execute_input": "2023-08-22T17:41:04.827784Z",
     "iopub.status.busy": "2023-08-22T17:41:04.827385Z",
     "iopub.status.idle": "2023-08-22T17:41:04.853822Z",
     "shell.execute_reply": "2023-08-22T17:41:04.852523Z"
    },
    "papermill": {
     "duration": 0.035022,
     "end_time": "2023-08-22T17:41:04.856417",
     "exception": false,
     "start_time": "2023-08-22T17:41:04.821395",
     "status": "completed"
    },
    "tags": []
   },
   "outputs": [
    {
     "name": "stdout",
     "output_type": "stream",
     "text": [
      "<class 'pandas.core.frame.DataFrame'>\n",
      "RangeIndex: 303 entries, 0 to 302\n",
      "Data columns (total 14 columns):\n",
      " #   Column    Non-Null Count  Dtype  \n",
      "---  ------    --------------  -----  \n",
      " 0   age       303 non-null    int64  \n",
      " 1   sex       303 non-null    int64  \n",
      " 2   cp        303 non-null    int64  \n",
      " 3   trestbps  303 non-null    int64  \n",
      " 4   chol      303 non-null    int64  \n",
      " 5   fbs       303 non-null    int64  \n",
      " 6   restecg   303 non-null    int64  \n",
      " 7   thalach   303 non-null    int64  \n",
      " 8   exang     303 non-null    int64  \n",
      " 9   oldpeak   303 non-null    float64\n",
      " 10  slope     303 non-null    int64  \n",
      " 11  ca        303 non-null    int64  \n",
      " 12  thal      303 non-null    int64  \n",
      " 13  target    303 non-null    int64  \n",
      "dtypes: float64(1), int64(13)\n",
      "memory usage: 33.3 KB\n"
     ]
    }
   ],
   "source": [
    "df.info()"
   ]
  },
  {
   "cell_type": "markdown",
   "id": "dfe2a583",
   "metadata": {
    "papermill": {
     "duration": 0.004549,
     "end_time": "2023-08-22T17:41:04.865874",
     "exception": false,
     "start_time": "2023-08-22T17:41:04.861325",
     "status": "completed"
    },
    "tags": []
   },
   "source": [
    "### Data Exploration (EDA)\n",
    "The goal here is to find out more about the data and become subject matter expert on the dataset you're working with.\n",
    "\n",
    "#### Questions to asks:\n",
    "1. What questions are you trying to solve?\n",
    "2. What kind of data do we have and how do we treat different types?\n",
    "3. What's missing from the data and how do you deal with it?\n",
    "4. Where are the outliers and why should you care about them?\n",
    "5. How can you add, change or remove features to get more out of your data?"
   ]
  },
  {
   "cell_type": "code",
   "execution_count": 6,
   "id": "b3eb00a8",
   "metadata": {
    "execution": {
     "iopub.execute_input": "2023-08-22T17:41:04.877283Z",
     "iopub.status.busy": "2023-08-22T17:41:04.876897Z",
     "iopub.status.idle": "2023-08-22T17:41:04.885678Z",
     "shell.execute_reply": "2023-08-22T17:41:04.884583Z"
    },
    "papermill": {
     "duration": 0.017327,
     "end_time": "2023-08-22T17:41:04.887817",
     "exception": false,
     "start_time": "2023-08-22T17:41:04.870490",
     "status": "completed"
    },
    "tags": []
   },
   "outputs": [
    {
     "data": {
      "text/plain": [
       "1    165\n",
       "0    138\n",
       "Name: target, dtype: int64"
      ]
     },
     "execution_count": 6,
     "metadata": {},
     "output_type": "execute_result"
    }
   ],
   "source": [
    "df[\"target\"].value_counts()"
   ]
  },
  {
   "cell_type": "code",
   "execution_count": 7,
   "id": "b30117dc",
   "metadata": {
    "execution": {
     "iopub.execute_input": "2023-08-22T17:41:04.899563Z",
     "iopub.status.busy": "2023-08-22T17:41:04.899208Z",
     "iopub.status.idle": "2023-08-22T17:41:05.159772Z",
     "shell.execute_reply": "2023-08-22T17:41:05.158590Z"
    },
    "papermill": {
     "duration": 0.269411,
     "end_time": "2023-08-22T17:41:05.162180",
     "exception": false,
     "start_time": "2023-08-22T17:41:04.892769",
     "status": "completed"
    },
    "tags": []
   },
   "outputs": [
    {
     "data": {
      "image/png": "[encoded data removed]",
      "text/plain": [
       "<Figure size 640x480 with 1 Axes>"
      ]
     },
     "metadata": {},
     "output_type": "display_data"
    }
   ],
   "source": [
    "df[\"target\"].value_counts().plot(kind=\"bar\", color=[\"red\", \"green\"]);"
   ]
  },
  {
   "cell_type": "code",
   "execution_count": null,
   "id": "8bffeddd",
   "metadata": {
    "papermill": {
     "duration": 0.005143,
     "end_time": "2023-08-22T17:41:05.172551",
     "exception": false,
     "start_time": "2023-08-22T17:41:05.167408",
     "status": "completed"
    },
    "tags": []
   },
   "outputs": [],
   "source": []
  }
 ],
 "metadata": {
  "kernelspec": {
   "display_name": "Python 3",
   "language": "python",
   "name": "python3"
  },
  "language_info": {
   "codemirror_mode": {
    "name": "ipython",
    "version": 3
   },
   "file_extension": ".py",
   "mimetype": "text/x-python",
   "name": "python",
   "nbconvert_exporter": "python",
   "pygments_lexer": "ipython3",
   "version": "3.10.12"
  },
  "papermill": {
   "default_parameters": {},
   "duration": 13.083194,
   "end_time": "2023-08-22T17:41:06.099677",
   "environment_variables": {},
   "exception": null,
   "input_path": "__notebook__.ipynb",
   "output_path": "__notebook__.ipynb",
   "parameters": {},
   "start_time": "2023-08-22T17:40:53.016483",
   "version": "2.4.0"
  }
 },
 "nbformat": 4,
 "nbformat_minor": 5
}
