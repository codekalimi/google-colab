{
 "cells": [
  {
   "cell_type": "code",
   "execution_count": 1,
   "id": "94679cd0",
   "metadata": {
    "_cell_guid": "b1076dfc-b9ad-4769-8c92-a6c4dae69d19",
    "_uuid": "8f2839f25d086af736a60e9eeb907d3b93b6e0e5",
    "execution": {
     "iopub.execute_input": "2023-08-14T05:54:27.712557Z",
     "iopub.status.busy": "2023-08-14T05:54:27.711532Z",
     "iopub.status.idle": "2023-08-14T05:54:27.739278Z",
     "shell.execute_reply": "2023-08-14T05:54:27.738421Z"
    },
    "papermill": {
     "duration": 0.044621,
     "end_time": "2023-08-14T05:54:27.741976",
     "exception": false,
     "start_time": "2023-08-14T05:54:27.697355",
     "status": "completed"
    },
    "tags": []
   },
   "outputs": [
    {
     "name": "stdout",
     "output_type": "stream",
     "text": [
      "/kaggle/input/data-sklearn/car-sales-extended-missing-data.csv\n",
      "/kaggle/input/data-sklearn/heart-disease.csv\n",
      "/kaggle/input/data-sklearn/car-sales-missing-dropped.csv\n",
      "/kaggle/input/data-sklearn/exported-car-sales.csv\n",
      "/kaggle/input/data-sklearn/car-sales.csv\n",
      "/kaggle/input/data-sklearn/car-sales-extended.csv\n"
     ]
    }
   ],
   "source": [
    "# This Python 3 environment comes with many helpful analytics libraries installed\n",
    "# It is defined by the kaggle/python Docker image: https://github.com/kaggle/docker-python\n",
    "# For example, here's several helpful packages to load\n",
    "\n",
    "import numpy as np # linear algebra\n",
    "import pandas as pd # data processing, CSV file I/O (e.g. pd.read_csv)\n",
    "\n",
    "# Input data files are available in the read-only \"../input/\" directory\n",
    "# For example, running this (by clicking run or pressing Shift+Enter) will list all files under the input directory\n",
    "\n",
    "import os\n",
    "for dirname, _, filenames in os.walk('/kaggle/input'):\n",
    "    for filename in filenames:\n",
    "        print(os.path.join(dirname, filename))\n",
    "\n",
    "# You can write up to 20GB to the current directory (/kaggle/working/) that gets preserved as output when you create a version using \"Save & Run All\" \n",
    "# You can also write temporary files to /kaggle/temp/, but they won't be saved outside of the current session"
   ]
  },
  {
   "cell_type": "code",
   "execution_count": 2,
   "id": "e34d4c0d",
   "metadata": {
    "execution": {
     "iopub.execute_input": "2023-08-14T05:54:27.768641Z",
     "iopub.status.busy": "2023-08-14T05:54:27.767250Z",
     "iopub.status.idle": "2023-08-14T05:54:29.584679Z",
     "shell.execute_reply": "2023-08-14T05:54:29.583469Z"
    },
    "papermill": {
     "duration": 1.833897,
     "end_time": "2023-08-14T05:54:29.587171",
     "exception": false,
     "start_time": "2023-08-14T05:54:27.753274",
     "status": "completed"
    },
    "tags": []
   },
   "outputs": [
    {
     "name": "stderr",
     "output_type": "stream",
     "text": [
      "/opt/conda/lib/python3.10/site-packages/scipy/__init__.py:146: UserWarning: A NumPy version >=1.16.5 and <1.23.0 is required for this version of SciPy (detected version 1.23.5\n",
      "  warnings.warn(f\"A NumPy version >={np_minversion} and <{np_maxversion}\"\n"
     ]
    },
    {
     "data": {
      "text/html": [
       "<div>\n",
       "<style scoped>\n",
       "    .dataframe tbody tr th:only-of-type {\n",
       "        vertical-align: middle;\n",
       "    }\n",
       "\n",
       "    .dataframe tbody tr th {\n",
       "        vertical-align: top;\n",
       "    }\n",
       "\n",
       "    .dataframe thead th {\n",
       "        text-align: right;\n",
       "    }\n",
       "</style>\n",
       "<table border=\"1\" class=\"dataframe\">\n",
       "  <thead>\n",
       "    <tr style=\"text-align: right;\">\n",
       "      <th></th>\n",
       "      <th>Make</th>\n",
       "      <th>Colour</th>\n",
       "      <th>Odometer (KM)</th>\n",
       "      <th>Doors</th>\n",
       "      <th>Price</th>\n",
       "    </tr>\n",
       "  </thead>\n",
       "  <tbody>\n",
       "    <tr>\n",
       "      <th>0</th>\n",
       "      <td>Toyota</td>\n",
       "      <td>White</td>\n",
       "      <td>150043</td>\n",
       "      <td>4</td>\n",
       "      <td>$4,000.00</td>\n",
       "    </tr>\n",
       "    <tr>\n",
       "      <th>1</th>\n",
       "      <td>Honda</td>\n",
       "      <td>Red</td>\n",
       "      <td>87899</td>\n",
       "      <td>4</td>\n",
       "      <td>$5,000.00</td>\n",
       "    </tr>\n",
       "    <tr>\n",
       "      <th>2</th>\n",
       "      <td>Toyota</td>\n",
       "      <td>Blue</td>\n",
       "      <td>32549</td>\n",
       "      <td>3</td>\n",
       "      <td>$7,000.00</td>\n",
       "    </tr>\n",
       "    <tr>\n",
       "      <th>3</th>\n",
       "      <td>BMW</td>\n",
       "      <td>Black</td>\n",
       "      <td>11179</td>\n",
       "      <td>5</td>\n",
       "      <td>$22,000.00</td>\n",
       "    </tr>\n",
       "    <tr>\n",
       "      <th>4</th>\n",
       "      <td>Nissan</td>\n",
       "      <td>White</td>\n",
       "      <td>213095</td>\n",
       "      <td>4</td>\n",
       "      <td>$3,500.00</td>\n",
       "    </tr>\n",
       "  </tbody>\n",
       "</table>\n",
       "</div>"
      ],
      "text/plain": [
       "     Make Colour  Odometer (KM)  Doors       Price\n",
       "0  Toyota  White         150043      4   $4,000.00\n",
       "1   Honda    Red          87899      4   $5,000.00\n",
       "2  Toyota   Blue          32549      3   $7,000.00\n",
       "3     BMW  Black          11179      5  $22,000.00\n",
       "4  Nissan  White         213095      4   $3,500.00"
      ]
     },
     "execution_count": 2,
     "metadata": {},
     "output_type": "execute_result"
    }
   ],
   "source": [
    "import pandas as pd\n",
    "from sklearn.model_selection import train_test_split\n",
    "from sklearn.ensemble import RandomForestRegressor\n",
    "\n",
    "car_sales = pd.read_csv(\"/kaggle/input/data-sklearn/car-sales.csv\")\n",
    "car_sales.head()"
   ]
  },
  {
   "cell_type": "code",
   "execution_count": 3,
   "id": "bfa5a343",
   "metadata": {
    "execution": {
     "iopub.execute_input": "2023-08-14T05:54:29.613015Z",
     "iopub.status.busy": "2023-08-14T05:54:29.611620Z",
     "iopub.status.idle": "2023-08-14T05:54:29.625975Z",
     "shell.execute_reply": "2023-08-14T05:54:29.624817Z"
    },
    "papermill": {
     "duration": 0.029973,
     "end_time": "2023-08-14T05:54:29.628758",
     "exception": false,
     "start_time": "2023-08-14T05:54:29.598785",
     "status": "completed"
    },
    "tags": []
   },
   "outputs": [],
   "source": [
    "X = car_sales.drop(\"Price\", axis = 1)\n",
    "y = car_sales[\"Price\"]\n",
    "X_train, X_test, y_train, y_test = train_test_split(X, y, test_size = 0.2)"
   ]
  },
  {
   "cell_type": "code",
   "execution_count": 4,
   "id": "99c06540",
   "metadata": {
    "execution": {
     "iopub.execute_input": "2023-08-14T05:54:29.654765Z",
     "iopub.status.busy": "2023-08-14T05:54:29.653465Z",
     "iopub.status.idle": "2023-08-14T05:54:29.660124Z",
     "shell.execute_reply": "2023-08-14T05:54:29.658718Z"
    },
    "papermill": {
     "duration": 0.02234,
     "end_time": "2023-08-14T05:54:29.662619",
     "exception": false,
     "start_time": "2023-08-14T05:54:29.640279",
     "status": "completed"
    },
    "tags": []
   },
   "outputs": [],
   "source": [
    "model = RandomForestRegressor()"
   ]
  },
  {
   "cell_type": "code",
   "execution_count": 5,
   "id": "b73a4030",
   "metadata": {
    "execution": {
     "iopub.execute_input": "2023-08-14T05:54:29.688871Z",
     "iopub.status.busy": "2023-08-14T05:54:29.688370Z",
     "iopub.status.idle": "2023-08-14T05:54:29.693746Z",
     "shell.execute_reply": "2023-08-14T05:54:29.692460Z"
    },
    "papermill": {
     "duration": 0.020858,
     "end_time": "2023-08-14T05:54:29.696183",
     "exception": false,
     "start_time": "2023-08-14T05:54:29.675325",
     "status": "completed"
    },
    "tags": []
   },
   "outputs": [],
   "source": [
    "# model.fit(X_train, y_train)"
   ]
  },
  {
   "cell_type": "code",
   "execution_count": 6,
   "id": "cb7aa737",
   "metadata": {
    "execution": {
     "iopub.execute_input": "2023-08-14T05:54:29.721091Z",
     "iopub.status.busy": "2023-08-14T05:54:29.720614Z",
     "iopub.status.idle": "2023-08-14T05:54:29.735626Z",
     "shell.execute_reply": "2023-08-14T05:54:29.734304Z"
    },
    "papermill": {
     "duration": 0.03029,
     "end_time": "2023-08-14T05:54:29.737956",
     "exception": false,
     "start_time": "2023-08-14T05:54:29.707666",
     "status": "completed"
    },
    "tags": []
   },
   "outputs": [
    {
     "data": {
      "text/html": [
       "<div>\n",
       "<style scoped>\n",
       "    .dataframe tbody tr th:only-of-type {\n",
       "        vertical-align: middle;\n",
       "    }\n",
       "\n",
       "    .dataframe tbody tr th {\n",
       "        vertical-align: top;\n",
       "    }\n",
       "\n",
       "    .dataframe thead th {\n",
       "        text-align: right;\n",
       "    }\n",
       "</style>\n",
       "<table border=\"1\" class=\"dataframe\">\n",
       "  <thead>\n",
       "    <tr style=\"text-align: right;\">\n",
       "      <th></th>\n",
       "      <th>Make</th>\n",
       "      <th>Colour</th>\n",
       "      <th>Odometer (KM)</th>\n",
       "      <th>Doors</th>\n",
       "      <th>Price</th>\n",
       "    </tr>\n",
       "  </thead>\n",
       "  <tbody>\n",
       "    <tr>\n",
       "      <th>0</th>\n",
       "      <td>Toyota</td>\n",
       "      <td>White</td>\n",
       "      <td>150043</td>\n",
       "      <td>4</td>\n",
       "      <td>$4,000.00</td>\n",
       "    </tr>\n",
       "    <tr>\n",
       "      <th>1</th>\n",
       "      <td>Honda</td>\n",
       "      <td>Red</td>\n",
       "      <td>87899</td>\n",
       "      <td>4</td>\n",
       "      <td>$5,000.00</td>\n",
       "    </tr>\n",
       "    <tr>\n",
       "      <th>2</th>\n",
       "      <td>Toyota</td>\n",
       "      <td>Blue</td>\n",
       "      <td>32549</td>\n",
       "      <td>3</td>\n",
       "      <td>$7,000.00</td>\n",
       "    </tr>\n",
       "    <tr>\n",
       "      <th>3</th>\n",
       "      <td>BMW</td>\n",
       "      <td>Black</td>\n",
       "      <td>11179</td>\n",
       "      <td>5</td>\n",
       "      <td>$22,000.00</td>\n",
       "    </tr>\n",
       "    <tr>\n",
       "      <th>4</th>\n",
       "      <td>Nissan</td>\n",
       "      <td>White</td>\n",
       "      <td>213095</td>\n",
       "      <td>4</td>\n",
       "      <td>$3,500.00</td>\n",
       "    </tr>\n",
       "  </tbody>\n",
       "</table>\n",
       "</div>"
      ],
      "text/plain": [
       "     Make Colour  Odometer (KM)  Doors       Price\n",
       "0  Toyota  White         150043      4   $4,000.00\n",
       "1   Honda    Red          87899      4   $5,000.00\n",
       "2  Toyota   Blue          32549      3   $7,000.00\n",
       "3     BMW  Black          11179      5  $22,000.00\n",
       "4  Nissan  White         213095      4   $3,500.00"
      ]
     },
     "execution_count": 6,
     "metadata": {},
     "output_type": "execute_result"
    }
   ],
   "source": [
    "car_sales.head(5)"
   ]
  },
  {
   "cell_type": "code",
   "execution_count": 7,
   "id": "13189452",
   "metadata": {
    "execution": {
     "iopub.execute_input": "2023-08-14T05:54:29.763901Z",
     "iopub.status.busy": "2023-08-14T05:54:29.762881Z",
     "iopub.status.idle": "2023-08-14T05:54:29.771702Z",
     "shell.execute_reply": "2023-08-14T05:54:29.769844Z"
    },
    "papermill": {
     "duration": 0.02628,
     "end_time": "2023-08-14T05:54:29.775853",
     "exception": false,
     "start_time": "2023-08-14T05:54:29.749573",
     "status": "completed"
    },
    "tags": []
   },
   "outputs": [],
   "source": [
    "car_sales['Price'] = car_sales['Price'].replace('[\\$,]', '', regex=True).astype(float).astype(int)"
   ]
  },
  {
   "cell_type": "code",
   "execution_count": 8,
   "id": "853fe8e3",
   "metadata": {
    "execution": {
     "iopub.execute_input": "2023-08-14T05:54:29.802779Z",
     "iopub.status.busy": "2023-08-14T05:54:29.802324Z",
     "iopub.status.idle": "2023-08-14T05:54:29.815986Z",
     "shell.execute_reply": "2023-08-14T05:54:29.814683Z"
    },
    "papermill": {
     "duration": 0.029876,
     "end_time": "2023-08-14T05:54:29.818471",
     "exception": false,
     "start_time": "2023-08-14T05:54:29.788595",
     "status": "completed"
    },
    "tags": []
   },
   "outputs": [
    {
     "data": {
      "text/html": [
       "<div>\n",
       "<style scoped>\n",
       "    .dataframe tbody tr th:only-of-type {\n",
       "        vertical-align: middle;\n",
       "    }\n",
       "\n",
       "    .dataframe tbody tr th {\n",
       "        vertical-align: top;\n",
       "    }\n",
       "\n",
       "    .dataframe thead th {\n",
       "        text-align: right;\n",
       "    }\n",
       "</style>\n",
       "<table border=\"1\" class=\"dataframe\">\n",
       "  <thead>\n",
       "    <tr style=\"text-align: right;\">\n",
       "      <th></th>\n",
       "      <th>Make</th>\n",
       "      <th>Colour</th>\n",
       "      <th>Odometer (KM)</th>\n",
       "      <th>Doors</th>\n",
       "      <th>Price</th>\n",
       "    </tr>\n",
       "  </thead>\n",
       "  <tbody>\n",
       "    <tr>\n",
       "      <th>0</th>\n",
       "      <td>Toyota</td>\n",
       "      <td>White</td>\n",
       "      <td>150043</td>\n",
       "      <td>4</td>\n",
       "      <td>4000</td>\n",
       "    </tr>\n",
       "    <tr>\n",
       "      <th>1</th>\n",
       "      <td>Honda</td>\n",
       "      <td>Red</td>\n",
       "      <td>87899</td>\n",
       "      <td>4</td>\n",
       "      <td>5000</td>\n",
       "    </tr>\n",
       "    <tr>\n",
       "      <th>2</th>\n",
       "      <td>Toyota</td>\n",
       "      <td>Blue</td>\n",
       "      <td>32549</td>\n",
       "      <td>3</td>\n",
       "      <td>7000</td>\n",
       "    </tr>\n",
       "    <tr>\n",
       "      <th>3</th>\n",
       "      <td>BMW</td>\n",
       "      <td>Black</td>\n",
       "      <td>11179</td>\n",
       "      <td>5</td>\n",
       "      <td>22000</td>\n",
       "    </tr>\n",
       "    <tr>\n",
       "      <th>4</th>\n",
       "      <td>Nissan</td>\n",
       "      <td>White</td>\n",
       "      <td>213095</td>\n",
       "      <td>4</td>\n",
       "      <td>3500</td>\n",
       "    </tr>\n",
       "  </tbody>\n",
       "</table>\n",
       "</div>"
      ],
      "text/plain": [
       "     Make Colour  Odometer (KM)  Doors  Price\n",
       "0  Toyota  White         150043      4   4000\n",
       "1   Honda    Red          87899      4   5000\n",
       "2  Toyota   Blue          32549      3   7000\n",
       "3     BMW  Black          11179      5  22000\n",
       "4  Nissan  White         213095      4   3500"
      ]
     },
     "execution_count": 8,
     "metadata": {},
     "output_type": "execute_result"
    }
   ],
   "source": [
    "car_sales.head(5)"
   ]
  },
  {
   "cell_type": "code",
   "execution_count": 9,
   "id": "e2b511c2",
   "metadata": {
    "execution": {
     "iopub.execute_input": "2023-08-14T05:54:29.846981Z",
     "iopub.status.busy": "2023-08-14T05:54:29.846343Z",
     "iopub.status.idle": "2023-08-14T05:54:29.855191Z",
     "shell.execute_reply": "2023-08-14T05:54:29.854292Z"
    },
    "papermill": {
     "duration": 0.026118,
     "end_time": "2023-08-14T05:54:29.857675",
     "exception": false,
     "start_time": "2023-08-14T05:54:29.831557",
     "status": "completed"
    },
    "tags": []
   },
   "outputs": [],
   "source": [
    "X = car_sales.drop(\"Price\", axis = 1)\n",
    "y = car_sales[\"Price\"]\n",
    "X_train, X_test, y_train, y_test = train_test_split(X, y, test_size = 0.2)"
   ]
  },
  {
   "cell_type": "code",
   "execution_count": 10,
   "id": "a0e00b7a",
   "metadata": {
    "execution": {
     "iopub.execute_input": "2023-08-14T05:54:29.884333Z",
     "iopub.status.busy": "2023-08-14T05:54:29.883902Z",
     "iopub.status.idle": "2023-08-14T05:54:29.908346Z",
     "shell.execute_reply": "2023-08-14T05:54:29.906932Z"
    },
    "papermill": {
     "duration": 0.040967,
     "end_time": "2023-08-14T05:54:29.911125",
     "exception": false,
     "start_time": "2023-08-14T05:54:29.870158",
     "status": "completed"
    },
    "tags": []
   },
   "outputs": [
    {
     "data": {
      "text/html": [
       "<div>\n",
       "<style scoped>\n",
       "    .dataframe tbody tr th:only-of-type {\n",
       "        vertical-align: middle;\n",
       "    }\n",
       "\n",
       "    .dataframe tbody tr th {\n",
       "        vertical-align: top;\n",
       "    }\n",
       "\n",
       "    .dataframe thead th {\n",
       "        text-align: right;\n",
       "    }\n",
       "</style>\n",
       "<table border=\"1\" class=\"dataframe\">\n",
       "  <thead>\n",
       "    <tr style=\"text-align: right;\">\n",
       "      <th></th>\n",
       "      <th>Odometer (KM)</th>\n",
       "      <th>Make_BMW</th>\n",
       "      <th>Make_Honda</th>\n",
       "      <th>Make_Nissan</th>\n",
       "      <th>Make_Toyota</th>\n",
       "      <th>Colour_Black</th>\n",
       "      <th>Colour_Blue</th>\n",
       "      <th>Colour_Green</th>\n",
       "      <th>Colour_Red</th>\n",
       "      <th>Colour_White</th>\n",
       "      <th>Doors_3</th>\n",
       "      <th>Doors_4</th>\n",
       "      <th>Doors_5</th>\n",
       "    </tr>\n",
       "  </thead>\n",
       "  <tbody>\n",
       "    <tr>\n",
       "      <th>0</th>\n",
       "      <td>150043</td>\n",
       "      <td>0</td>\n",
       "      <td>0</td>\n",
       "      <td>0</td>\n",
       "      <td>1</td>\n",
       "      <td>0</td>\n",
       "      <td>0</td>\n",
       "      <td>0</td>\n",
       "      <td>0</td>\n",
       "      <td>1</td>\n",
       "      <td>0</td>\n",
       "      <td>1</td>\n",
       "      <td>0</td>\n",
       "    </tr>\n",
       "    <tr>\n",
       "      <th>1</th>\n",
       "      <td>87899</td>\n",
       "      <td>0</td>\n",
       "      <td>1</td>\n",
       "      <td>0</td>\n",
       "      <td>0</td>\n",
       "      <td>0</td>\n",
       "      <td>0</td>\n",
       "      <td>0</td>\n",
       "      <td>1</td>\n",
       "      <td>0</td>\n",
       "      <td>0</td>\n",
       "      <td>1</td>\n",
       "      <td>0</td>\n",
       "    </tr>\n",
       "    <tr>\n",
       "      <th>2</th>\n",
       "      <td>32549</td>\n",
       "      <td>0</td>\n",
       "      <td>0</td>\n",
       "      <td>0</td>\n",
       "      <td>1</td>\n",
       "      <td>0</td>\n",
       "      <td>1</td>\n",
       "      <td>0</td>\n",
       "      <td>0</td>\n",
       "      <td>0</td>\n",
       "      <td>1</td>\n",
       "      <td>0</td>\n",
       "      <td>0</td>\n",
       "    </tr>\n",
       "    <tr>\n",
       "      <th>3</th>\n",
       "      <td>11179</td>\n",
       "      <td>1</td>\n",
       "      <td>0</td>\n",
       "      <td>0</td>\n",
       "      <td>0</td>\n",
       "      <td>1</td>\n",
       "      <td>0</td>\n",
       "      <td>0</td>\n",
       "      <td>0</td>\n",
       "      <td>0</td>\n",
       "      <td>0</td>\n",
       "      <td>0</td>\n",
       "      <td>1</td>\n",
       "    </tr>\n",
       "    <tr>\n",
       "      <th>4</th>\n",
       "      <td>213095</td>\n",
       "      <td>0</td>\n",
       "      <td>0</td>\n",
       "      <td>1</td>\n",
       "      <td>0</td>\n",
       "      <td>0</td>\n",
       "      <td>0</td>\n",
       "      <td>0</td>\n",
       "      <td>0</td>\n",
       "      <td>1</td>\n",
       "      <td>0</td>\n",
       "      <td>1</td>\n",
       "      <td>0</td>\n",
       "    </tr>\n",
       "  </tbody>\n",
       "</table>\n",
       "</div>"
      ],
      "text/plain": [
       "   Odometer (KM)  Make_BMW  Make_Honda  Make_Nissan  Make_Toyota  \\\n",
       "0         150043         0           0            0            1   \n",
       "1          87899         0           1            0            0   \n",
       "2          32549         0           0            0            1   \n",
       "3          11179         1           0            0            0   \n",
       "4         213095         0           0            1            0   \n",
       "\n",
       "   Colour_Black  Colour_Blue  Colour_Green  Colour_Red  Colour_White  Doors_3  \\\n",
       "0             0            0             0           0             1        0   \n",
       "1             0            0             0           1             0        0   \n",
       "2             0            1             0           0             0        1   \n",
       "3             1            0             0           0             0        0   \n",
       "4             0            0             0           0             1        0   \n",
       "\n",
       "   Doors_4  Doors_5  \n",
       "0        1        0  \n",
       "1        1        0  \n",
       "2        0        0  \n",
       "3        0        1  \n",
       "4        1        0  "
      ]
     },
     "execution_count": 10,
     "metadata": {},
     "output_type": "execute_result"
    }
   ],
   "source": [
    "transform_X = pd.get_dummies(X, columns=[\"Make\", \"Colour\", \"Doors\"])\n",
    "transform_X.head()"
   ]
  },
  {
   "cell_type": "code",
   "execution_count": 11,
   "id": "ef0ed102",
   "metadata": {
    "execution": {
     "iopub.execute_input": "2023-08-14T05:54:29.939780Z",
     "iopub.status.busy": "2023-08-14T05:54:29.939333Z",
     "iopub.status.idle": "2023-08-14T05:54:30.137588Z",
     "shell.execute_reply": "2023-08-14T05:54:30.136759Z"
    },
    "papermill": {
     "duration": 0.215739,
     "end_time": "2023-08-14T05:54:30.140030",
     "exception": false,
     "start_time": "2023-08-14T05:54:29.924291",
     "status": "completed"
    },
    "tags": []
   },
   "outputs": [
    {
     "data": {
      "text/html": [
       "<style>#sk-container-id-1 {color: black;background-color: white;}#sk-container-id-1 pre{padding: 0;}#sk-container-id-1 div.sk-toggleable {background-color: white;}#sk-container-id-1 label.sk-toggleable__label {cursor: pointer;display: block;width: 100%;margin-bottom: 0;padding: 0.3em;box-sizing: border-box;text-align: center;}#sk-container-id-1 label.sk-toggleable__label-arrow:before {content: \"▸\";float: left;margin-right: 0.25em;color: #696969;}#sk-container-id-1 label.sk-toggleable__label-arrow:hover:before {color: black;}#sk-container-id-1 div.sk-estimator:hover label.sk-toggleable__label-arrow:before {color: black;}#sk-container-id-1 div.sk-toggleable__content {max-height: 0;max-width: 0;overflow: hidden;text-align: left;background-color: #f0f8ff;}#sk-container-id-1 div.sk-toggleable__content pre {margin: 0.2em;color: black;border-radius: 0.25em;background-color: #f0f8ff;}#sk-container-id-1 input.sk-toggleable__control:checked~div.sk-toggleable__content {max-height: 200px;max-width: 100%;overflow: auto;}#sk-container-id-1 input.sk-toggleable__control:checked~label.sk-toggleable__label-arrow:before {content: \"▾\";}#sk-container-id-1 div.sk-estimator input.sk-toggleable__control:checked~label.sk-toggleable__label {background-color: #d4ebff;}#sk-container-id-1 div.sk-label input.sk-toggleable__control:checked~label.sk-toggleable__label {background-color: #d4ebff;}#sk-container-id-1 input.sk-hidden--visually {border: 0;clip: rect(1px 1px 1px 1px);clip: rect(1px, 1px, 1px, 1px);height: 1px;margin: -1px;overflow: hidden;padding: 0;position: absolute;width: 1px;}#sk-container-id-1 div.sk-estimator {font-family: monospace;background-color: #f0f8ff;border: 1px dotted black;border-radius: 0.25em;box-sizing: border-box;margin-bottom: 0.5em;}#sk-container-id-1 div.sk-estimator:hover {background-color: #d4ebff;}#sk-container-id-1 div.sk-parallel-item::after {content: \"\";width: 100%;border-bottom: 1px solid gray;flex-grow: 1;}#sk-container-id-1 div.sk-label:hover label.sk-toggleable__label {background-color: #d4ebff;}#sk-container-id-1 div.sk-serial::before {content: \"\";position: absolute;border-left: 1px solid gray;box-sizing: border-box;top: 0;bottom: 0;left: 50%;z-index: 0;}#sk-container-id-1 div.sk-serial {display: flex;flex-direction: column;align-items: center;background-color: white;padding-right: 0.2em;padding-left: 0.2em;position: relative;}#sk-container-id-1 div.sk-item {position: relative;z-index: 1;}#sk-container-id-1 div.sk-parallel {display: flex;align-items: stretch;justify-content: center;background-color: white;position: relative;}#sk-container-id-1 div.sk-item::before, #sk-container-id-1 div.sk-parallel-item::before {content: \"\";position: absolute;border-left: 1px solid gray;box-sizing: border-box;top: 0;bottom: 0;left: 50%;z-index: -1;}#sk-container-id-1 div.sk-parallel-item {display: flex;flex-direction: column;z-index: 1;position: relative;background-color: white;}#sk-container-id-1 div.sk-parallel-item:first-child::after {align-self: flex-end;width: 50%;}#sk-container-id-1 div.sk-parallel-item:last-child::after {align-self: flex-start;width: 50%;}#sk-container-id-1 div.sk-parallel-item:only-child::after {width: 0;}#sk-container-id-1 div.sk-dashed-wrapped {border: 1px dashed gray;margin: 0 0.4em 0.5em 0.4em;box-sizing: border-box;padding-bottom: 0.4em;background-color: white;}#sk-container-id-1 div.sk-label label {font-family: monospace;font-weight: bold;display: inline-block;line-height: 1.2em;}#sk-container-id-1 div.sk-label-container {text-align: center;}#sk-container-id-1 div.sk-container {/* jupyter's `normalize.less` sets `[hidden] { display: none; }` but bootstrap.min.css set `[hidden] { display: none !important; }` so we also need the `!important` here to be able to override the default hidden behavior on the sphinx rendered scikit-learn.org. See: https://github.com/scikit-learn/scikit-learn/issues/21755 */display: inline-block !important;position: relative;}#sk-container-id-1 div.sk-text-repr-fallback {display: none;}</style><div id=\"sk-container-id-1\" class=\"sk-top-container\"><div class=\"sk-text-repr-fallback\"><pre>RandomForestRegressor()</pre><b>In a Jupyter environment, please rerun this cell to show the HTML representation or trust the notebook. <br />On GitHub, the HTML representation is unable to render, please try loading this page with nbviewer.org.</b></div><div class=\"sk-container\" hidden><div class=\"sk-item\"><div class=\"sk-estimator sk-toggleable\"><input class=\"sk-toggleable__control sk-hidden--visually\" id=\"sk-estimator-id-1\" type=\"checkbox\" checked><label for=\"sk-estimator-id-1\" class=\"sk-toggleable__label sk-toggleable__label-arrow\">RandomForestRegressor</label><div class=\"sk-toggleable__content\"><pre>RandomForestRegressor()</pre></div></div></div></div></div>"
      ],
      "text/plain": [
       "RandomForestRegressor()"
      ]
     },
     "execution_count": 11,
     "metadata": {},
     "output_type": "execute_result"
    }
   ],
   "source": [
    "X_train, X_test, y_train, y_test = train_test_split(transform_X, y, test_size=0.2)\n",
    "model.fit(X_test, y_test)"
   ]
  },
  {
   "cell_type": "code",
   "execution_count": 12,
   "id": "e44d6bed",
   "metadata": {
    "execution": {
     "iopub.execute_input": "2023-08-14T05:54:30.170335Z",
     "iopub.status.busy": "2023-08-14T05:54:30.169643Z",
     "iopub.status.idle": "2023-08-14T05:54:30.188768Z",
     "shell.execute_reply": "2023-08-14T05:54:30.187590Z"
    },
    "papermill": {
     "duration": 0.037594,
     "end_time": "2023-08-14T05:54:30.191698",
     "exception": false,
     "start_time": "2023-08-14T05:54:30.154104",
     "status": "completed"
    },
    "tags": []
   },
   "outputs": [
    {
     "data": {
      "text/plain": [
       "0.779"
      ]
     },
     "execution_count": 12,
     "metadata": {},
     "output_type": "execute_result"
    }
   ],
   "source": [
    "model.score(X_test, y_test)"
   ]
  },
  {
   "cell_type": "code",
   "execution_count": 13,
   "id": "b46c4f79",
   "metadata": {
    "execution": {
     "iopub.execute_input": "2023-08-14T05:54:30.220752Z",
     "iopub.status.busy": "2023-08-14T05:54:30.220285Z",
     "iopub.status.idle": "2023-08-14T05:54:30.244668Z",
     "shell.execute_reply": "2023-08-14T05:54:30.243780Z"
    },
    "papermill": {
     "duration": 0.042554,
     "end_time": "2023-08-14T05:54:30.247563",
     "exception": false,
     "start_time": "2023-08-14T05:54:30.205009",
     "status": "completed"
    },
    "tags": []
   },
   "outputs": [],
   "source": [
    "from sklearn.preprocessing import OneHotEncoder\n",
    "from sklearn.compose import ColumnTransformer"
   ]
  },
  {
   "cell_type": "code",
   "execution_count": 14,
   "id": "0dea23f7",
   "metadata": {
    "execution": {
     "iopub.execute_input": "2023-08-14T05:54:30.277388Z",
     "iopub.status.busy": "2023-08-14T05:54:30.276661Z",
     "iopub.status.idle": "2023-08-14T05:54:30.290314Z",
     "shell.execute_reply": "2023-08-14T05:54:30.289484Z"
    },
    "papermill": {
     "duration": 0.031444,
     "end_time": "2023-08-14T05:54:30.292553",
     "exception": false,
     "start_time": "2023-08-14T05:54:30.261109",
     "status": "completed"
    },
    "tags": []
   },
   "outputs": [
    {
     "data": {
      "text/html": [
       "<div>\n",
       "<style scoped>\n",
       "    .dataframe tbody tr th:only-of-type {\n",
       "        vertical-align: middle;\n",
       "    }\n",
       "\n",
       "    .dataframe tbody tr th {\n",
       "        vertical-align: top;\n",
       "    }\n",
       "\n",
       "    .dataframe thead th {\n",
       "        text-align: right;\n",
       "    }\n",
       "</style>\n",
       "<table border=\"1\" class=\"dataframe\">\n",
       "  <thead>\n",
       "    <tr style=\"text-align: right;\">\n",
       "      <th></th>\n",
       "      <th>Odometer (KM)</th>\n",
       "      <th>Make_BMW</th>\n",
       "      <th>Make_Honda</th>\n",
       "      <th>Make_Nissan</th>\n",
       "      <th>Make_Toyota</th>\n",
       "      <th>Colour_Black</th>\n",
       "      <th>Colour_Blue</th>\n",
       "      <th>Colour_Green</th>\n",
       "      <th>Colour_Red</th>\n",
       "      <th>Colour_White</th>\n",
       "      <th>Doors_3</th>\n",
       "      <th>Doors_4</th>\n",
       "      <th>Doors_5</th>\n",
       "    </tr>\n",
       "  </thead>\n",
       "  <tbody>\n",
       "    <tr>\n",
       "      <th>1</th>\n",
       "      <td>87899</td>\n",
       "      <td>0</td>\n",
       "      <td>1</td>\n",
       "      <td>0</td>\n",
       "      <td>0</td>\n",
       "      <td>0</td>\n",
       "      <td>0</td>\n",
       "      <td>0</td>\n",
       "      <td>1</td>\n",
       "      <td>0</td>\n",
       "      <td>0</td>\n",
       "      <td>1</td>\n",
       "      <td>0</td>\n",
       "    </tr>\n",
       "    <tr>\n",
       "      <th>7</th>\n",
       "      <td>54738</td>\n",
       "      <td>0</td>\n",
       "      <td>1</td>\n",
       "      <td>0</td>\n",
       "      <td>0</td>\n",
       "      <td>0</td>\n",
       "      <td>1</td>\n",
       "      <td>0</td>\n",
       "      <td>0</td>\n",
       "      <td>0</td>\n",
       "      <td>0</td>\n",
       "      <td>1</td>\n",
       "      <td>0</td>\n",
       "    </tr>\n",
       "    <tr>\n",
       "      <th>6</th>\n",
       "      <td>45698</td>\n",
       "      <td>0</td>\n",
       "      <td>1</td>\n",
       "      <td>0</td>\n",
       "      <td>0</td>\n",
       "      <td>0</td>\n",
       "      <td>1</td>\n",
       "      <td>0</td>\n",
       "      <td>0</td>\n",
       "      <td>0</td>\n",
       "      <td>0</td>\n",
       "      <td>1</td>\n",
       "      <td>0</td>\n",
       "    </tr>\n",
       "    <tr>\n",
       "      <th>2</th>\n",
       "      <td>32549</td>\n",
       "      <td>0</td>\n",
       "      <td>0</td>\n",
       "      <td>0</td>\n",
       "      <td>1</td>\n",
       "      <td>0</td>\n",
       "      <td>1</td>\n",
       "      <td>0</td>\n",
       "      <td>0</td>\n",
       "      <td>0</td>\n",
       "      <td>1</td>\n",
       "      <td>0</td>\n",
       "      <td>0</td>\n",
       "    </tr>\n",
       "    <tr>\n",
       "      <th>9</th>\n",
       "      <td>31600</td>\n",
       "      <td>0</td>\n",
       "      <td>0</td>\n",
       "      <td>1</td>\n",
       "      <td>0</td>\n",
       "      <td>0</td>\n",
       "      <td>0</td>\n",
       "      <td>0</td>\n",
       "      <td>0</td>\n",
       "      <td>1</td>\n",
       "      <td>0</td>\n",
       "      <td>1</td>\n",
       "      <td>0</td>\n",
       "    </tr>\n",
       "  </tbody>\n",
       "</table>\n",
       "</div>"
      ],
      "text/plain": [
       "   Odometer (KM)  Make_BMW  Make_Honda  Make_Nissan  Make_Toyota  \\\n",
       "1          87899         0           1            0            0   \n",
       "7          54738         0           1            0            0   \n",
       "6          45698         0           1            0            0   \n",
       "2          32549         0           0            0            1   \n",
       "9          31600         0           0            1            0   \n",
       "\n",
       "   Colour_Black  Colour_Blue  Colour_Green  Colour_Red  Colour_White  Doors_3  \\\n",
       "1             0            0             0           1             0        0   \n",
       "7             0            1             0           0             0        0   \n",
       "6             0            1             0           0             0        0   \n",
       "2             0            1             0           0             0        1   \n",
       "9             0            0             0           0             1        0   \n",
       "\n",
       "   Doors_4  Doors_5  \n",
       "1        1        0  \n",
       "7        1        0  \n",
       "6        1        0  \n",
       "2        0        0  \n",
       "9        1        0  "
      ]
     },
     "execution_count": 14,
     "metadata": {},
     "output_type": "execute_result"
    }
   ],
   "source": [
    "X_train.head()"
   ]
  },
  {
   "cell_type": "code",
   "execution_count": 15,
   "id": "116862f2",
   "metadata": {
    "execution": {
     "iopub.execute_input": "2023-08-14T05:54:30.323486Z",
     "iopub.status.busy": "2023-08-14T05:54:30.322736Z",
     "iopub.status.idle": "2023-08-14T05:54:30.327699Z",
     "shell.execute_reply": "2023-08-14T05:54:30.326932Z"
    },
    "papermill": {
     "duration": 0.022865,
     "end_time": "2023-08-14T05:54:30.330015",
     "exception": false,
     "start_time": "2023-08-14T05:54:30.307150",
     "status": "completed"
    },
    "tags": []
   },
   "outputs": [],
   "source": [
    "one_hot = OneHotEncoder()\n",
    "categorical_features = [\"Make\", \"Colour\", \"Doors\"]\n",
    "\n",
    "transform_X = ColumnTransformer([(\"one_hot\", \n",
    "                                 one_hot, \n",
    "                                 categorical_features)],\n",
    "                                 remainder=\"passthrough\")"
   ]
  },
  {
   "cell_type": "code",
   "execution_count": 16,
   "id": "ff5d32ba",
   "metadata": {
    "execution": {
     "iopub.execute_input": "2023-08-14T05:54:30.361522Z",
     "iopub.status.busy": "2023-08-14T05:54:30.360776Z",
     "iopub.status.idle": "2023-08-14T05:54:30.364799Z",
     "shell.execute_reply": "2023-08-14T05:54:30.363983Z"
    },
    "papermill": {
     "duration": 0.023046,
     "end_time": "2023-08-14T05:54:30.367278",
     "exception": false,
     "start_time": "2023-08-14T05:54:30.344232",
     "status": "completed"
    },
    "tags": []
   },
   "outputs": [],
   "source": [
    "# X_train, X_test, y_train, y_test = train_test_split(transform_X, y, test_size=0.2)\n",
    "# model.fit(X_train, y_train)\n",
    "# model.score(X_test, y_test)"
   ]
  },
  {
   "cell_type": "code",
   "execution_count": 17,
   "id": "f46ab6c6",
   "metadata": {
    "execution": {
     "iopub.execute_input": "2023-08-14T05:54:30.399597Z",
     "iopub.status.busy": "2023-08-14T05:54:30.398823Z",
     "iopub.status.idle": "2023-08-14T05:54:30.423483Z",
     "shell.execute_reply": "2023-08-14T05:54:30.422313Z"
    },
    "papermill": {
     "duration": 0.044148,
     "end_time": "2023-08-14T05:54:30.426519",
     "exception": false,
     "start_time": "2023-08-14T05:54:30.382371",
     "status": "completed"
    },
    "tags": []
   },
   "outputs": [
    {
     "data": {
      "text/html": [
       "<div>\n",
       "<style scoped>\n",
       "    .dataframe tbody tr th:only-of-type {\n",
       "        vertical-align: middle;\n",
       "    }\n",
       "\n",
       "    .dataframe tbody tr th {\n",
       "        vertical-align: top;\n",
       "    }\n",
       "\n",
       "    .dataframe thead th {\n",
       "        text-align: right;\n",
       "    }\n",
       "</style>\n",
       "<table border=\"1\" class=\"dataframe\">\n",
       "  <thead>\n",
       "    <tr style=\"text-align: right;\">\n",
       "      <th></th>\n",
       "      <th>Make</th>\n",
       "      <th>Colour</th>\n",
       "      <th>Odometer (KM)</th>\n",
       "      <th>Doors</th>\n",
       "      <th>Price</th>\n",
       "    </tr>\n",
       "  </thead>\n",
       "  <tbody>\n",
       "    <tr>\n",
       "      <th>0</th>\n",
       "      <td>Honda</td>\n",
       "      <td>White</td>\n",
       "      <td>35431.0</td>\n",
       "      <td>4.0</td>\n",
       "      <td>15323.0</td>\n",
       "    </tr>\n",
       "    <tr>\n",
       "      <th>1</th>\n",
       "      <td>BMW</td>\n",
       "      <td>Blue</td>\n",
       "      <td>192714.0</td>\n",
       "      <td>5.0</td>\n",
       "      <td>19943.0</td>\n",
       "    </tr>\n",
       "    <tr>\n",
       "      <th>2</th>\n",
       "      <td>Honda</td>\n",
       "      <td>White</td>\n",
       "      <td>84714.0</td>\n",
       "      <td>4.0</td>\n",
       "      <td>28343.0</td>\n",
       "    </tr>\n",
       "    <tr>\n",
       "      <th>3</th>\n",
       "      <td>Toyota</td>\n",
       "      <td>White</td>\n",
       "      <td>154365.0</td>\n",
       "      <td>4.0</td>\n",
       "      <td>13434.0</td>\n",
       "    </tr>\n",
       "    <tr>\n",
       "      <th>4</th>\n",
       "      <td>Nissan</td>\n",
       "      <td>Blue</td>\n",
       "      <td>181577.0</td>\n",
       "      <td>3.0</td>\n",
       "      <td>14043.0</td>\n",
       "    </tr>\n",
       "  </tbody>\n",
       "</table>\n",
       "</div>"
      ],
      "text/plain": [
       "     Make Colour  Odometer (KM)  Doors    Price\n",
       "0   Honda  White        35431.0    4.0  15323.0\n",
       "1     BMW   Blue       192714.0    5.0  19943.0\n",
       "2   Honda  White        84714.0    4.0  28343.0\n",
       "3  Toyota  White       154365.0    4.0  13434.0\n",
       "4  Nissan   Blue       181577.0    3.0  14043.0"
      ]
     },
     "execution_count": 17,
     "metadata": {},
     "output_type": "execute_result"
    }
   ],
   "source": [
    "car_sales_missing = pd.read_csv(\"/kaggle/input/data-sklearn/car-sales-extended-missing-data.csv\")\n",
    "car_sales_missing.head()"
   ]
  },
  {
   "cell_type": "code",
   "execution_count": 18,
   "id": "2c3bd7dc",
   "metadata": {
    "execution": {
     "iopub.execute_input": "2023-08-14T05:54:30.458082Z",
     "iopub.status.busy": "2023-08-14T05:54:30.457647Z",
     "iopub.status.idle": "2023-08-14T05:54:30.480460Z",
     "shell.execute_reply": "2023-08-14T05:54:30.478800Z"
    },
    "papermill": {
     "duration": 0.040876,
     "end_time": "2023-08-14T05:54:30.483120",
     "exception": false,
     "start_time": "2023-08-14T05:54:30.442244",
     "status": "completed"
    },
    "tags": []
   },
   "outputs": [
    {
     "name": "stdout",
     "output_type": "stream",
     "text": [
      "<class 'pandas.core.frame.DataFrame'>\n",
      "RangeIndex: 1000 entries, 0 to 999\n",
      "Data columns (total 5 columns):\n",
      " #   Column         Non-Null Count  Dtype  \n",
      "---  ------         --------------  -----  \n",
      " 0   Make           951 non-null    object \n",
      " 1   Colour         950 non-null    object \n",
      " 2   Odometer (KM)  950 non-null    float64\n",
      " 3   Doors          950 non-null    float64\n",
      " 4   Price          950 non-null    float64\n",
      "dtypes: float64(3), object(2)\n",
      "memory usage: 39.2+ KB\n"
     ]
    }
   ],
   "source": [
    "car_sales_missing.info()"
   ]
  },
  {
   "cell_type": "code",
   "execution_count": 19,
   "id": "ab0552ad",
   "metadata": {
    "execution": {
     "iopub.execute_input": "2023-08-14T05:54:30.514909Z",
     "iopub.status.busy": "2023-08-14T05:54:30.513635Z",
     "iopub.status.idle": "2023-08-14T05:54:30.524554Z",
     "shell.execute_reply": "2023-08-14T05:54:30.523448Z"
    },
    "papermill": {
     "duration": 0.029516,
     "end_time": "2023-08-14T05:54:30.527320",
     "exception": false,
     "start_time": "2023-08-14T05:54:30.497804",
     "status": "completed"
    },
    "tags": []
   },
   "outputs": [
    {
     "data": {
      "text/plain": [
       "Make             49\n",
       "Colour           50\n",
       "Odometer (KM)    50\n",
       "Doors            50\n",
       "Price            50\n",
       "dtype: int64"
      ]
     },
     "execution_count": 19,
     "metadata": {},
     "output_type": "execute_result"
    }
   ],
   "source": [
    "car_sales_missing.isna().sum()"
   ]
  },
  {
   "cell_type": "code",
   "execution_count": 20,
   "id": "fe18d86b",
   "metadata": {
    "execution": {
     "iopub.execute_input": "2023-08-14T05:54:30.558046Z",
     "iopub.status.busy": "2023-08-14T05:54:30.557580Z",
     "iopub.status.idle": "2023-08-14T05:54:30.569940Z",
     "shell.execute_reply": "2023-08-14T05:54:30.568684Z"
    },
    "papermill": {
     "duration": 0.030793,
     "end_time": "2023-08-14T05:54:30.572711",
     "exception": false,
     "start_time": "2023-08-14T05:54:30.541918",
     "status": "completed"
    },
    "tags": []
   },
   "outputs": [],
   "source": [
    "# fill the missing values\n",
    "car_sales_missing[\"Make\"].fillna(\"missing\", inplace=True)\n",
    "car_sales_missing[\"Colour\"].fillna(\"missing\", inplace=True)\n",
    "car_sales_missing[\"Odometer (KM)\"].fillna(car_sales_missing[\"Odometer (KM)\"].mean(), inplace=True)\n",
    "car_sales_missing[\"Doors\"].fillna(4, inplace=True)\n",
    "car_sales_missing.dropna(inplace=True)"
   ]
  },
  {
   "cell_type": "code",
   "execution_count": 21,
   "id": "230c0f9c",
   "metadata": {
    "execution": {
     "iopub.execute_input": "2023-08-14T05:54:30.602822Z",
     "iopub.status.busy": "2023-08-14T05:54:30.602364Z",
     "iopub.status.idle": "2023-08-14T05:54:30.609151Z",
     "shell.execute_reply": "2023-08-14T05:54:30.608197Z"
    },
    "papermill": {
     "duration": 0.024511,
     "end_time": "2023-08-14T05:54:30.611476",
     "exception": false,
     "start_time": "2023-08-14T05:54:30.586965",
     "status": "completed"
    },
    "tags": []
   },
   "outputs": [],
   "source": [
    "X = car_sales_missing.drop(\"Price\", axis=1)\n",
    "y = car_sales_missing[\"Price\"]"
   ]
  },
  {
   "cell_type": "code",
   "execution_count": 22,
   "id": "1b82543b",
   "metadata": {
    "execution": {
     "iopub.execute_input": "2023-08-14T05:54:30.641793Z",
     "iopub.status.busy": "2023-08-14T05:54:30.641357Z",
     "iopub.status.idle": "2023-08-14T05:54:30.647682Z",
     "shell.execute_reply": "2023-08-14T05:54:30.646315Z"
    },
    "papermill": {
     "duration": 0.024629,
     "end_time": "2023-08-14T05:54:30.650201",
     "exception": false,
     "start_time": "2023-08-14T05:54:30.625572",
     "status": "completed"
    },
    "tags": []
   },
   "outputs": [],
   "source": [
    "from sklearn.preprocessing import OneHotEncoder\n",
    "from sklearn.compose import ColumnTransformer\n",
    "\n",
    "feature_categories = [\"Make\", \"Colour\", \"Doors\"]\n",
    "one_hot = OneHotEncoder()\n",
    "transformed_X = ColumnTransformer([\"one_hot\", one_hot, feature_categories ], remainder = \"passthrough\")"
   ]
  },
  {
   "cell_type": "code",
   "execution_count": 23,
   "id": "b519cf60",
   "metadata": {
    "execution": {
     "iopub.execute_input": "2023-08-14T05:54:30.680381Z",
     "iopub.status.busy": "2023-08-14T05:54:30.679379Z",
     "iopub.status.idle": "2023-08-14T05:54:30.684969Z",
     "shell.execute_reply": "2023-08-14T05:54:30.684005Z"
    },
    "papermill": {
     "duration": 0.023423,
     "end_time": "2023-08-14T05:54:30.687460",
     "exception": false,
     "start_time": "2023-08-14T05:54:30.664037",
     "status": "completed"
    },
    "tags": []
   },
   "outputs": [],
   "source": [
    "# from sklearn.model_selection import train_test_split\n",
    "# from sklearn.ensemble import RandomForestRegressor\n",
    "# X_train, X_test, y_train, y_test = train_test_split(transformed_X, y, test_size=0.2)\n",
    "# model.fit(X_train, y_train)\n",
    "# model.score(X_test, y_test)"
   ]
  },
  {
   "cell_type": "code",
   "execution_count": 24,
   "id": "800bada7",
   "metadata": {
    "execution": {
     "iopub.execute_input": "2023-08-14T05:54:30.717511Z",
     "iopub.status.busy": "2023-08-14T05:54:30.717075Z",
     "iopub.status.idle": "2023-08-14T05:54:30.735812Z",
     "shell.execute_reply": "2023-08-14T05:54:30.734678Z"
    },
    "papermill": {
     "duration": 0.036728,
     "end_time": "2023-08-14T05:54:30.738267",
     "exception": false,
     "start_time": "2023-08-14T05:54:30.701539",
     "status": "completed"
    },
    "tags": []
   },
   "outputs": [
    {
     "data": {
      "text/html": [
       "<div>\n",
       "<style scoped>\n",
       "    .dataframe tbody tr th:only-of-type {\n",
       "        vertical-align: middle;\n",
       "    }\n",
       "\n",
       "    .dataframe tbody tr th {\n",
       "        vertical-align: top;\n",
       "    }\n",
       "\n",
       "    .dataframe thead th {\n",
       "        text-align: right;\n",
       "    }\n",
       "</style>\n",
       "<table border=\"1\" class=\"dataframe\">\n",
       "  <thead>\n",
       "    <tr style=\"text-align: right;\">\n",
       "      <th></th>\n",
       "      <th>Make</th>\n",
       "      <th>Colour</th>\n",
       "      <th>Odometer (KM)</th>\n",
       "      <th>Doors</th>\n",
       "      <th>Price</th>\n",
       "    </tr>\n",
       "  </thead>\n",
       "  <tbody>\n",
       "    <tr>\n",
       "      <th>0</th>\n",
       "      <td>Honda</td>\n",
       "      <td>White</td>\n",
       "      <td>35431.0</td>\n",
       "      <td>4.0</td>\n",
       "      <td>15323.0</td>\n",
       "    </tr>\n",
       "    <tr>\n",
       "      <th>1</th>\n",
       "      <td>BMW</td>\n",
       "      <td>Blue</td>\n",
       "      <td>192714.0</td>\n",
       "      <td>5.0</td>\n",
       "      <td>19943.0</td>\n",
       "    </tr>\n",
       "    <tr>\n",
       "      <th>2</th>\n",
       "      <td>Honda</td>\n",
       "      <td>White</td>\n",
       "      <td>84714.0</td>\n",
       "      <td>4.0</td>\n",
       "      <td>28343.0</td>\n",
       "    </tr>\n",
       "    <tr>\n",
       "      <th>3</th>\n",
       "      <td>Toyota</td>\n",
       "      <td>White</td>\n",
       "      <td>154365.0</td>\n",
       "      <td>4.0</td>\n",
       "      <td>13434.0</td>\n",
       "    </tr>\n",
       "    <tr>\n",
       "      <th>4</th>\n",
       "      <td>Nissan</td>\n",
       "      <td>Blue</td>\n",
       "      <td>181577.0</td>\n",
       "      <td>3.0</td>\n",
       "      <td>14043.0</td>\n",
       "    </tr>\n",
       "  </tbody>\n",
       "</table>\n",
       "</div>"
      ],
      "text/plain": [
       "     Make Colour  Odometer (KM)  Doors    Price\n",
       "0   Honda  White        35431.0    4.0  15323.0\n",
       "1     BMW   Blue       192714.0    5.0  19943.0\n",
       "2   Honda  White        84714.0    4.0  28343.0\n",
       "3  Toyota  White       154365.0    4.0  13434.0\n",
       "4  Nissan   Blue       181577.0    3.0  14043.0"
      ]
     },
     "execution_count": 24,
     "metadata": {},
     "output_type": "execute_result"
    }
   ],
   "source": [
    "# Imputation\n",
    "import pandas as pd\n",
    "car_sales_missing = pd.read_csv(\"/kaggle/input/data-sklearn/car-sales-extended-missing-data.csv\")\n",
    "car_sales_missing.head()"
   ]
  },
  {
   "cell_type": "code",
   "execution_count": 25,
   "id": "654c58b0",
   "metadata": {
    "execution": {
     "iopub.execute_input": "2023-08-14T05:54:30.768186Z",
     "iopub.status.busy": "2023-08-14T05:54:30.767808Z",
     "iopub.status.idle": "2023-08-14T05:54:30.779244Z",
     "shell.execute_reply": "2023-08-14T05:54:30.776037Z"
    },
    "papermill": {
     "duration": 0.029909,
     "end_time": "2023-08-14T05:54:30.782160",
     "exception": false,
     "start_time": "2023-08-14T05:54:30.752251",
     "status": "completed"
    },
    "tags": []
   },
   "outputs": [
    {
     "data": {
      "text/plain": [
       "Make             49\n",
       "Colour           50\n",
       "Odometer (KM)    50\n",
       "Doors            50\n",
       "Price            50\n",
       "dtype: int64"
      ]
     },
     "execution_count": 25,
     "metadata": {},
     "output_type": "execute_result"
    }
   ],
   "source": [
    "car_sales_missing.isna().sum()"
   ]
  },
  {
   "cell_type": "code",
   "execution_count": 26,
   "id": "4e4829d1",
   "metadata": {
    "execution": {
     "iopub.execute_input": "2023-08-14T05:54:30.812851Z",
     "iopub.status.busy": "2023-08-14T05:54:30.811466Z",
     "iopub.status.idle": "2023-08-14T05:54:30.829132Z",
     "shell.execute_reply": "2023-08-14T05:54:30.828074Z"
    },
    "papermill": {
     "duration": 0.035282,
     "end_time": "2023-08-14T05:54:30.831478",
     "exception": false,
     "start_time": "2023-08-14T05:54:30.796196",
     "status": "completed"
    },
    "tags": []
   },
   "outputs": [
    {
     "data": {
      "text/plain": [
       "Make             47\n",
       "Colour           46\n",
       "Odometer (KM)    48\n",
       "Doors            47\n",
       "Price             0\n",
       "dtype: int64"
      ]
     },
     "execution_count": 26,
     "metadata": {},
     "output_type": "execute_result"
    }
   ],
   "source": [
    "car_sales_missing.dropna(subset=[\"Price\"], inplace=True)\n",
    "car_sales_missing.isna().sum()"
   ]
  },
  {
   "cell_type": "code",
   "execution_count": 27,
   "id": "d07c292b",
   "metadata": {
    "execution": {
     "iopub.execute_input": "2023-08-14T05:54:30.861981Z",
     "iopub.status.busy": "2023-08-14T05:54:30.861464Z",
     "iopub.status.idle": "2023-08-14T05:54:30.868917Z",
     "shell.execute_reply": "2023-08-14T05:54:30.867660Z"
    },
    "papermill": {
     "duration": 0.025489,
     "end_time": "2023-08-14T05:54:30.871247",
     "exception": false,
     "start_time": "2023-08-14T05:54:30.845758",
     "status": "completed"
    },
    "tags": []
   },
   "outputs": [],
   "source": [
    "X = car_sales_missing.drop(\"Price\", axis=1)\n",
    "y = car_sales_missing[\"Price\"]"
   ]
  },
  {
   "cell_type": "code",
   "execution_count": 28,
   "id": "5c0d6196",
   "metadata": {
    "execution": {
     "iopub.execute_input": "2023-08-14T05:54:30.901539Z",
     "iopub.status.busy": "2023-08-14T05:54:30.901015Z",
     "iopub.status.idle": "2023-08-14T05:54:30.937121Z",
     "shell.execute_reply": "2023-08-14T05:54:30.935692Z"
    },
    "papermill": {
     "duration": 0.054915,
     "end_time": "2023-08-14T05:54:30.940226",
     "exception": false,
     "start_time": "2023-08-14T05:54:30.885311",
     "status": "completed"
    },
    "tags": []
   },
   "outputs": [],
   "source": [
    "from sklearn.impute import SimpleImputer\n",
    "from sklearn.compose import ColumnTransformer\n",
    "category_imputer = SimpleImputer(strategy=\"constant\", fill_value=\"missing\")\n",
    "door_imputer = SimpleImputer(strategy=\"constant\", fill_value=4)\n",
    "numerical_imputer = SimpleImputer(strategy=\"mean\")\n",
    "\n",
    "category_features = [\"Make\", \"Colour\"]\n",
    "door_features = [\"Doors\"]\n",
    "numerical_feature = [\"Odometer (KM)\"]\n",
    "\n",
    "transform = ColumnTransformer([\n",
    "    (\"category_imputer\", category_imputer, category_features),\n",
    "    (\"door_imputer\", door_imputer, door_features),\n",
    "    (\"numerical_imputer\", numerical_imputer, numerical_feature)\n",
    "])\n",
    "\n",
    "transformed_X = transform.fit_transform(X)"
   ]
  },
  {
   "cell_type": "code",
   "execution_count": 29,
   "id": "712fd253",
   "metadata": {
    "execution": {
     "iopub.execute_input": "2023-08-14T05:54:30.972590Z",
     "iopub.status.busy": "2023-08-14T05:54:30.972130Z",
     "iopub.status.idle": "2023-08-14T05:54:30.985584Z",
     "shell.execute_reply": "2023-08-14T05:54:30.984224Z"
    },
    "papermill": {
     "duration": 0.033081,
     "end_time": "2023-08-14T05:54:30.988537",
     "exception": false,
     "start_time": "2023-08-14T05:54:30.955456",
     "status": "completed"
    },
    "tags": []
   },
   "outputs": [
    {
     "data": {
      "text/plain": [
       "Make             0\n",
       "Colour           0\n",
       "Doors            0\n",
       "Odometer (KM)    0\n",
       "dtype: int64"
      ]
     },
     "execution_count": 29,
     "metadata": {},
     "output_type": "execute_result"
    }
   ],
   "source": [
    "car_sales_filled = pd.DataFrame(transformed_X, columns=[\"Make\", \"Colour\", \"Doors\", \"Odometer (KM)\"])\n",
    "car_sales_filled.isna().sum()"
   ]
  },
  {
   "cell_type": "code",
   "execution_count": 30,
   "id": "49eeab40",
   "metadata": {
    "execution": {
     "iopub.execute_input": "2023-08-14T05:54:31.021858Z",
     "iopub.status.busy": "2023-08-14T05:54:31.021393Z",
     "iopub.status.idle": "2023-08-14T05:54:31.042969Z",
     "shell.execute_reply": "2023-08-14T05:54:31.041952Z"
    },
    "papermill": {
     "duration": 0.042008,
     "end_time": "2023-08-14T05:54:31.045579",
     "exception": false,
     "start_time": "2023-08-14T05:54:31.003571",
     "status": "completed"
    },
    "tags": []
   },
   "outputs": [],
   "source": [
    "# convert categorical data to numerical\n",
    "from sklearn.preprocessing import OneHotEncoder\n",
    "\n",
    "categorical_features = [\"Make\", \"Colour\", \"Doors\"]\n",
    "\n",
    "one_hot = OneHotEncoder()\n",
    "transform_category_numerical = ColumnTransformer([\n",
    "    (\"one_hot\", one_hot, categorical_features)\n",
    "], remainder=\"passthrough\")\n",
    "transformed_X = transform_category_numerical.fit_transform(car_sales_filled)"
   ]
  },
  {
   "cell_type": "code",
   "execution_count": 31,
   "id": "29e2bf54",
   "metadata": {
    "execution": {
     "iopub.execute_input": "2023-08-14T05:54:31.077411Z",
     "iopub.status.busy": "2023-08-14T05:54:31.076164Z",
     "iopub.status.idle": "2023-08-14T05:54:31.087153Z",
     "shell.execute_reply": "2023-08-14T05:54:31.086289Z"
    },
    "papermill": {
     "duration": 0.029243,
     "end_time": "2023-08-14T05:54:31.089521",
     "exception": false,
     "start_time": "2023-08-14T05:54:31.060278",
     "status": "completed"
    },
    "tags": []
   },
   "outputs": [],
   "source": [
    "from sklearn.ensemble import RandomForestRegressor\n",
    "from sklearn.model_selection import train_test_split\n",
    "import numpy as np\n",
    "np.random.seed(42)\n",
    "X_train, X_test, y_train, y_test = train_test_split(transformed_X, y, test_size=0.2)"
   ]
  },
  {
   "cell_type": "code",
   "execution_count": 32,
   "id": "fa5798d9",
   "metadata": {
    "execution": {
     "iopub.execute_input": "2023-08-14T05:54:31.121775Z",
     "iopub.status.busy": "2023-08-14T05:54:31.120361Z",
     "iopub.status.idle": "2023-08-14T05:54:31.128125Z",
     "shell.execute_reply": "2023-08-14T05:54:31.127061Z"
    },
    "papermill": {
     "duration": 0.02585,
     "end_time": "2023-08-14T05:54:31.130289",
     "exception": false,
     "start_time": "2023-08-14T05:54:31.104439",
     "status": "completed"
    },
    "tags": []
   },
   "outputs": [
    {
     "data": {
      "text/plain": [
       "((760, 15), (760,))"
      ]
     },
     "execution_count": 32,
     "metadata": {},
     "output_type": "execute_result"
    }
   ],
   "source": [
    "X_train.shape, y_train.shape"
   ]
  },
  {
   "cell_type": "code",
   "execution_count": 33,
   "id": "42651df3",
   "metadata": {
    "execution": {
     "iopub.execute_input": "2023-08-14T05:54:31.161449Z",
     "iopub.status.busy": "2023-08-14T05:54:31.160970Z",
     "iopub.status.idle": "2023-08-14T05:54:31.454680Z",
     "shell.execute_reply": "2023-08-14T05:54:31.453515Z"
    },
    "papermill": {
     "duration": 0.312514,
     "end_time": "2023-08-14T05:54:31.457536",
     "exception": false,
     "start_time": "2023-08-14T05:54:31.145022",
     "status": "completed"
    },
    "tags": []
   },
   "outputs": [
    {
     "data": {
      "text/plain": [
       "0.2302502267526798"
      ]
     },
     "execution_count": 33,
     "metadata": {},
     "output_type": "execute_result"
    }
   ],
   "source": [
    "model = RandomForestRegressor()\n",
    "model.fit(X_test, y_test)\n",
    "model.score(X_train, y_train)"
   ]
  },
  {
   "cell_type": "code",
   "execution_count": null,
   "id": "92a6fa6c",
   "metadata": {
    "papermill": {
     "duration": 0.015189,
     "end_time": "2023-08-14T05:54:31.488165",
     "exception": false,
     "start_time": "2023-08-14T05:54:31.472976",
     "status": "completed"
    },
    "tags": []
   },
   "outputs": [],
   "source": []
  }
 ],
 "metadata": {
  "kernelspec": {
   "display_name": "Python 3",
   "language": "python",
   "name": "python3"
  },
  "language_info": {
   "codemirror_mode": {
    "name": "ipython",
    "version": 3
   },
   "file_extension": ".py",
   "mimetype": "text/x-python",
   "name": "python",
   "nbconvert_exporter": "python",
   "pygments_lexer": "ipython3",
   "version": "3.10.12"
  },
  "papermill": {
   "default_parameters": {},
   "duration": 16.453329,
   "end_time": "2023-08-14T05:54:32.628990",
   "environment_variables": {},
   "exception": null,
   "input_path": "__notebook__.ipynb",
   "output_path": "__notebook__.ipynb",
   "parameters": {},
   "start_time": "2023-08-14T05:54:16.175661",
   "version": "2.4.0"
  }
 },
 "nbformat": 4,
 "nbformat_minor": 5
}
